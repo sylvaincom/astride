{
 "cells": [
  {
   "cell_type": "markdown",
   "id": "310b67e7-995b-41d7-8af3-d4e5ae9d3e58",
   "metadata": {},
   "source": [
    "<font size=\"+3\"><mark>Explore the UCR Archive metadata</mark></font>"
   ]
  },
  {
   "cell_type": "markdown",
   "id": "c9e8cd69-cc0e-40e3-b3fb-50e09e038019",
   "metadata": {},
   "source": [
    "# Introduction"
   ]
  },
  {
   "cell_type": "markdown",
   "id": "cb7f9e19-e3e0-456e-bb78-4a402229d7a9",
   "metadata": {},
   "source": [
    "## README"
   ]
  },
  {
   "cell_type": "markdown",
   "id": "d4214abf-659e-4f29-88e7-d487c19a27f9",
   "metadata": {},
   "source": [
    "_Associated GitHub repository: https://github.com/sylvaincom/astride._\n",
    "\n",
    "This notebook explores the UCR Time Series Classification Archive metadata (number of data sets, number of samples, etc). All signals are univariate.\n",
    "- Explores the univariate equal-size data sets with at least 100 samples\n",
    "- Computes the space complexity on a data set for SAX, ABBA, and ASTRIDE\n",
    "\n",
    "This notebook inputs:\n",
    "- `data/DataSummary.csv` (downloaded from the [UCR Archive](https://www.cs.ucr.edu/~eamonn/time_series_data_2018))\n",
    "\n",
    "This notebook outputs:\n",
    "- the `data/DataSummary_prep_equalsize.csv` file which contains the 117 univariate and equal-size data sets from the UCR archive.\n",
    "- the `data/DataSummary_prep_equalsize_min100samples.csv` file which contains the 94 univariate and equal-size data sets with at least 100 samples from the UCR archive."
   ]
  },
  {
   "cell_type": "markdown",
   "id": "7a0b6cca-7073-4ad2-ab34-efcb22d22005",
   "metadata": {},
   "source": [
    "## Configuration parameters"
   ]
  },
  {
   "cell_type": "code",
   "execution_count": 1,
   "id": "40c73b31-eb3f-4702-8740-c43dbf7749bd",
   "metadata": {},
   "outputs": [],
   "source": [
    "IS_EXPORT_DF = True"
   ]
  },
  {
   "cell_type": "markdown",
   "id": "d3cc9b4e-d8f3-4ad3-b59c-a482eb77b0a4",
   "metadata": {},
   "source": [
    "## Imports"
   ]
  },
  {
   "cell_type": "code",
   "execution_count": 2,
   "id": "4fa00651-99aa-4b25-b3dd-b76c0bf0bb03",
   "metadata": {},
   "outputs": [],
   "source": [
    "import numpy as np\n",
    "import pandas as pd\n",
    "from pathlib import Path\n",
    "import pprint\n",
    "\n",
    "from src.utils import load_ucr_dataset\n",
    "from src.metadata import l_datasets_classif_bench"
   ]
  },
  {
   "cell_type": "code",
   "execution_count": 3,
   "id": "3647d10f-d163-4457-94f9-755c7f6b97b6",
   "metadata": {},
   "outputs": [],
   "source": [
    "pp = pprint.PrettyPrinter()\n",
    "cwd = Path.cwd()"
   ]
  },
  {
   "cell_type": "markdown",
   "id": "6f70aa2e-0a4e-4959-9ada-6a47d773de3f",
   "metadata": {
    "tags": []
   },
   "source": [
    "# Load and clean the (meta)data"
   ]
  },
  {
   "cell_type": "markdown",
   "id": "ffd6cf54-1ff5-4884-957b-3dd6454017d7",
   "metadata": {},
   "source": [
    "## Load"
   ]
  },
  {
   "cell_type": "code",
   "execution_count": 4,
   "id": "88ee4575-7e6b-4c5c-9c59-d8e2390e1333",
   "metadata": {},
   "outputs": [],
   "source": [
    "df_ucr = pd.read_csv(cwd / \"data/DataSummary.csv\")"
   ]
  },
  {
   "cell_type": "markdown",
   "id": "7b7c1933-1c7d-46da-a1aa-6d85e1985e2d",
   "metadata": {},
   "source": [
    "## Summary"
   ]
  },
  {
   "cell_type": "code",
   "execution_count": 5,
   "id": "eeb96c8f-9582-40f6-85a3-2219bc1c41f4",
   "metadata": {},
   "outputs": [
    {
     "name": "stdout",
     "output_type": "stream",
     "text": [
      "<class 'pandas.core.frame.DataFrame'>\n",
      "RangeIndex: 128 entries, 0 to 127\n",
      "Data columns (total 12 columns):\n",
      " #   Column             Non-Null Count  Dtype  \n",
      "---  ------             --------------  -----  \n",
      " 0   ID                 128 non-null    int64  \n",
      " 1   Type               128 non-null    object \n",
      " 2   Name               128 non-null    object \n",
      " 3   Train              128 non-null    int64  \n",
      " 4   Test               128 non-null    int64  \n",
      " 5   Class              128 non-null    int64  \n",
      " 6   Length             128 non-null    object \n",
      " 7   ED (w=0)           128 non-null    float64\n",
      " 8   DTW (learned_w)    128 non-null    object \n",
      " 9   DTW (w=100)        128 non-null    float64\n",
      " 10  Default rate       128 non-null    float64\n",
      " 11  Data donor/editor  128 non-null    object \n",
      "dtypes: float64(3), int64(4), object(5)\n",
      "memory usage: 12.1+ KB\n"
     ]
    }
   ],
   "source": [
    "df_ucr.info()"
   ]
  },
  {
   "cell_type": "code",
   "execution_count": 6,
   "id": "db23d618-ee6b-48e7-af1a-4423860054ff",
   "metadata": {},
   "outputs": [
    {
     "data": {
      "text/html": [
       "<div>\n",
       "<style scoped>\n",
       "    .dataframe tbody tr th:only-of-type {\n",
       "        vertical-align: middle;\n",
       "    }\n",
       "\n",
       "    .dataframe tbody tr th {\n",
       "        vertical-align: top;\n",
       "    }\n",
       "\n",
       "    .dataframe thead th {\n",
       "        text-align: right;\n",
       "    }\n",
       "</style>\n",
       "<table border=\"1\" class=\"dataframe\">\n",
       "  <thead>\n",
       "    <tr style=\"text-align: right;\">\n",
       "      <th></th>\n",
       "      <th>ID</th>\n",
       "      <th>Type</th>\n",
       "      <th>Name</th>\n",
       "      <th>Train</th>\n",
       "      <th>Test</th>\n",
       "      <th>Class</th>\n",
       "      <th>Length</th>\n",
       "      <th>ED (w=0)</th>\n",
       "      <th>DTW (learned_w)</th>\n",
       "      <th>DTW (w=100)</th>\n",
       "      <th>Default rate</th>\n",
       "      <th>Data donor/editor</th>\n",
       "    </tr>\n",
       "  </thead>\n",
       "  <tbody>\n",
       "    <tr>\n",
       "      <th>0</th>\n",
       "      <td>1</td>\n",
       "      <td>Image</td>\n",
       "      <td>Adiac</td>\n",
       "      <td>390</td>\n",
       "      <td>391</td>\n",
       "      <td>37</td>\n",
       "      <td>176</td>\n",
       "      <td>0.3887</td>\n",
       "      <td>0.3913 (3)</td>\n",
       "      <td>0.3964</td>\n",
       "      <td>0.9591</td>\n",
       "      <td>A. Jalba</td>\n",
       "    </tr>\n",
       "    <tr>\n",
       "      <th>1</th>\n",
       "      <td>2</td>\n",
       "      <td>Image</td>\n",
       "      <td>ArrowHead</td>\n",
       "      <td>36</td>\n",
       "      <td>175</td>\n",
       "      <td>3</td>\n",
       "      <td>251</td>\n",
       "      <td>0.2000</td>\n",
       "      <td>0.2000 (0)</td>\n",
       "      <td>0.2971</td>\n",
       "      <td>0.6057</td>\n",
       "      <td>L. Ye &amp; E. Keogh</td>\n",
       "    </tr>\n",
       "    <tr>\n",
       "      <th>2</th>\n",
       "      <td>3</td>\n",
       "      <td>Spectro</td>\n",
       "      <td>Beef</td>\n",
       "      <td>30</td>\n",
       "      <td>30</td>\n",
       "      <td>5</td>\n",
       "      <td>470</td>\n",
       "      <td>0.3333</td>\n",
       "      <td>0.3333 (0)</td>\n",
       "      <td>0.3667</td>\n",
       "      <td>0.8000</td>\n",
       "      <td>K. Kemsley &amp;  A. Bagnall</td>\n",
       "    </tr>\n",
       "    <tr>\n",
       "      <th>3</th>\n",
       "      <td>4</td>\n",
       "      <td>Image</td>\n",
       "      <td>BeetleFly</td>\n",
       "      <td>20</td>\n",
       "      <td>20</td>\n",
       "      <td>2</td>\n",
       "      <td>512</td>\n",
       "      <td>0.2500</td>\n",
       "      <td>0.3000 (7)</td>\n",
       "      <td>0.3000</td>\n",
       "      <td>0.5000</td>\n",
       "      <td>J. Hills &amp; A. Bagnall</td>\n",
       "    </tr>\n",
       "    <tr>\n",
       "      <th>4</th>\n",
       "      <td>5</td>\n",
       "      <td>Image</td>\n",
       "      <td>BirdChicken</td>\n",
       "      <td>20</td>\n",
       "      <td>20</td>\n",
       "      <td>2</td>\n",
       "      <td>512</td>\n",
       "      <td>0.4500</td>\n",
       "      <td>0.3000 (6)</td>\n",
       "      <td>0.2500</td>\n",
       "      <td>0.5000</td>\n",
       "      <td>J. Hills &amp; A. Bagnall</td>\n",
       "    </tr>\n",
       "  </tbody>\n",
       "</table>\n",
       "</div>"
      ],
      "text/plain": [
       "   ID     Type         Name  Train   Test   Class Length  ED (w=0)  \\\n",
       "0   1    Image        Adiac     390    391     37    176    0.3887   \n",
       "1   2    Image    ArrowHead      36    175      3    251    0.2000   \n",
       "2   3  Spectro         Beef      30     30      5    470    0.3333   \n",
       "3   4    Image    BeetleFly      20     20      2    512    0.2500   \n",
       "4   5    Image  BirdChicken      20     20      2    512    0.4500   \n",
       "\n",
       "  DTW (learned_w)   DTW (w=100)  Default rate         Data donor/editor  \n",
       "0       0.3913 (3)       0.3964        0.9591                  A. Jalba  \n",
       "1       0.2000 (0)       0.2971        0.6057          L. Ye & E. Keogh  \n",
       "2       0.3333 (0)       0.3667        0.8000  K. Kemsley &  A. Bagnall  \n",
       "3       0.3000 (7)       0.3000        0.5000     J. Hills & A. Bagnall  \n",
       "4       0.3000 (6)       0.2500        0.5000     J. Hills & A. Bagnall  "
      ]
     },
     "execution_count": 6,
     "metadata": {},
     "output_type": "execute_result"
    }
   ],
   "source": [
    "df_ucr.head()"
   ]
  },
  {
   "cell_type": "code",
   "execution_count": 7,
   "id": "6eff9178-9332-4180-a360-699d7a227a83",
   "metadata": {},
   "outputs": [
    {
     "name": "stdout",
     "output_type": "stream",
     "text": [
      "Total number of unique data sets:\n",
      "\t128\n"
     ]
    }
   ],
   "source": [
    "n_datasets_total = df_ucr[\"Name\"].nunique()\n",
    "print(f\"Total number of unique data sets:\\n\\t{n_datasets_total}\")"
   ]
  },
  {
   "cell_type": "markdown",
   "id": "4e579986-0914-4422-a9e5-2c2abbda87fd",
   "metadata": {},
   "source": [
    "## Feature names"
   ]
  },
  {
   "cell_type": "code",
   "execution_count": 8,
   "id": "d496b9aa-2247-4538-9a6b-71cff71e1af1",
   "metadata": {},
   "outputs": [
    {
     "name": "stdout",
     "output_type": "stream",
     "text": [
      "['ID',\n",
      " 'Type',\n",
      " 'Name',\n",
      " 'Train ',\n",
      " 'Test ',\n",
      " 'Class',\n",
      " 'Length',\n",
      " 'ED (w=0)',\n",
      " 'DTW (learned_w) ',\n",
      " 'DTW (w=100)',\n",
      " 'Default rate',\n",
      " 'Data donor/editor']\n"
     ]
    }
   ],
   "source": [
    "pp.pprint(list(df_ucr.columns))"
   ]
  },
  {
   "cell_type": "markdown",
   "id": "2d78c8d2-2ffa-4d5f-b2b2-805acf600237",
   "metadata": {},
   "source": [
    "There are some weird spaces in the feature names!"
   ]
  },
  {
   "cell_type": "code",
   "execution_count": 9,
   "id": "bc790ee9-7126-45a3-b0a3-50f82b0a03ba",
   "metadata": {},
   "outputs": [],
   "source": [
    "df_ucr.columns = df_ucr.columns.str.strip()"
   ]
  },
  {
   "cell_type": "markdown",
   "id": "73245a84-1544-4d4e-a5f8-19688d0cd12f",
   "metadata": {},
   "source": [
    "## `Length` feature"
   ]
  },
  {
   "cell_type": "code",
   "execution_count": 10,
   "id": "585b290d-36ee-435a-8be5-891c45210035",
   "metadata": {},
   "outputs": [
    {
     "data": {
      "text/plain": [
       "array(['176', '251', '470', '512', '577', '128', '166', '1639', '286',\n",
       "       '720', '300', '345', '80', '96', '140', '136', '131', '350', '270',\n",
       "       '463', '500', '150', '431', '2709', '1092', '1882', '256', '24',\n",
       "       '637', '319', '1024', '448', '99', '84', '750', '570', '427',\n",
       "       '144', '70', '65', '235', '398', '60', '277', '343', '275', '82',\n",
       "       '945', '315', '152', '234', '900', '426', '1460', 'Vary', '46',\n",
       "       '288', '1250', '1751', '301', '201', '2000', '601', '2844', '1500',\n",
       "       '15'], dtype=object)"
      ]
     },
     "execution_count": 10,
     "metadata": {},
     "output_type": "execute_result"
    }
   ],
   "source": [
    "df_ucr[\"Length\"].unique()"
   ]
  },
  {
   "cell_type": "code",
   "execution_count": 11,
   "id": "da74ac45-b4fb-494c-8f41-6f58c1503aca",
   "metadata": {},
   "outputs": [
    {
     "data": {
      "text/html": [
       "<div>\n",
       "<style scoped>\n",
       "    .dataframe tbody tr th:only-of-type {\n",
       "        vertical-align: middle;\n",
       "    }\n",
       "\n",
       "    .dataframe tbody tr th {\n",
       "        vertical-align: top;\n",
       "    }\n",
       "\n",
       "    .dataframe thead th {\n",
       "        text-align: right;\n",
       "    }\n",
       "</style>\n",
       "<table border=\"1\" class=\"dataframe\">\n",
       "  <thead>\n",
       "    <tr style=\"text-align: right;\">\n",
       "      <th></th>\n",
       "      <th>ID</th>\n",
       "      <th>Type</th>\n",
       "      <th>Name</th>\n",
       "      <th>Train</th>\n",
       "      <th>Test</th>\n",
       "      <th>Class</th>\n",
       "      <th>Length</th>\n",
       "      <th>ED (w=0)</th>\n",
       "      <th>DTW (learned_w)</th>\n",
       "      <th>DTW (w=100)</th>\n",
       "      <th>Default rate</th>\n",
       "      <th>Data donor/editor</th>\n",
       "    </tr>\n",
       "  </thead>\n",
       "  <tbody>\n",
       "    <tr>\n",
       "      <th>86</th>\n",
       "      <td>87</td>\n",
       "      <td>Sensor</td>\n",
       "      <td>AllGestureWiimoteX</td>\n",
       "      <td>300</td>\n",
       "      <td>700</td>\n",
       "      <td>10</td>\n",
       "      <td>Vary</td>\n",
       "      <td>0.4843</td>\n",
       "      <td>0.2829 (14)</td>\n",
       "      <td>0.2843</td>\n",
       "      <td>0.9000</td>\n",
       "      <td>J. Guna</td>\n",
       "    </tr>\n",
       "    <tr>\n",
       "      <th>87</th>\n",
       "      <td>88</td>\n",
       "      <td>Sensor</td>\n",
       "      <td>AllGestureWiimoteY</td>\n",
       "      <td>300</td>\n",
       "      <td>700</td>\n",
       "      <td>10</td>\n",
       "      <td>Vary</td>\n",
       "      <td>0.4314</td>\n",
       "      <td>0.2700 (9)</td>\n",
       "      <td>0.2714</td>\n",
       "      <td>0.9000</td>\n",
       "      <td>J. Guna</td>\n",
       "    </tr>\n",
       "    <tr>\n",
       "      <th>88</th>\n",
       "      <td>89</td>\n",
       "      <td>Sensor</td>\n",
       "      <td>AllGestureWiimoteZ</td>\n",
       "      <td>300</td>\n",
       "      <td>700</td>\n",
       "      <td>10</td>\n",
       "      <td>Vary</td>\n",
       "      <td>0.5457</td>\n",
       "      <td>0.3486 (11)</td>\n",
       "      <td>0.3571</td>\n",
       "      <td>0.9000</td>\n",
       "      <td>J. Guna</td>\n",
       "    </tr>\n",
       "    <tr>\n",
       "      <th>101</th>\n",
       "      <td>102</td>\n",
       "      <td>Trajectory</td>\n",
       "      <td>GestureMidAirD1</td>\n",
       "      <td>208</td>\n",
       "      <td>130</td>\n",
       "      <td>26</td>\n",
       "      <td>Vary</td>\n",
       "      <td>0.4231</td>\n",
       "      <td>0.3615 (5)</td>\n",
       "      <td>0.4308</td>\n",
       "      <td>0.9615</td>\n",
       "      <td>H. A. Dau</td>\n",
       "    </tr>\n",
       "    <tr>\n",
       "      <th>102</th>\n",
       "      <td>103</td>\n",
       "      <td>Trajectory</td>\n",
       "      <td>GestureMidAirD2</td>\n",
       "      <td>208</td>\n",
       "      <td>130</td>\n",
       "      <td>26</td>\n",
       "      <td>Vary</td>\n",
       "      <td>0.5077</td>\n",
       "      <td>0.4000 (6)</td>\n",
       "      <td>0.3923</td>\n",
       "      <td>0.9615</td>\n",
       "      <td>H. A. Dau</td>\n",
       "    </tr>\n",
       "    <tr>\n",
       "      <th>103</th>\n",
       "      <td>104</td>\n",
       "      <td>Trajectory</td>\n",
       "      <td>GestureMidAirD3</td>\n",
       "      <td>208</td>\n",
       "      <td>130</td>\n",
       "      <td>26</td>\n",
       "      <td>Vary</td>\n",
       "      <td>0.6538</td>\n",
       "      <td>0.6231 (1)</td>\n",
       "      <td>0.6769</td>\n",
       "      <td>0.9615</td>\n",
       "      <td>H. A. Dau</td>\n",
       "    </tr>\n",
       "    <tr>\n",
       "      <th>104</th>\n",
       "      <td>105</td>\n",
       "      <td>Sensor</td>\n",
       "      <td>GesturePebbleZ1</td>\n",
       "      <td>132</td>\n",
       "      <td>172</td>\n",
       "      <td>6</td>\n",
       "      <td>Vary</td>\n",
       "      <td>0.2674</td>\n",
       "      <td>0.1744 (2)</td>\n",
       "      <td>0.2093</td>\n",
       "      <td>0.8140</td>\n",
       "      <td>I. Maglogiannis</td>\n",
       "    </tr>\n",
       "    <tr>\n",
       "      <th>105</th>\n",
       "      <td>106</td>\n",
       "      <td>Sensor</td>\n",
       "      <td>GesturePebbleZ2</td>\n",
       "      <td>146</td>\n",
       "      <td>158</td>\n",
       "      <td>6</td>\n",
       "      <td>Vary</td>\n",
       "      <td>0.3291</td>\n",
       "      <td>0.2215 (6)</td>\n",
       "      <td>0.3291</td>\n",
       "      <td>0.8101</td>\n",
       "      <td>I. Maglogiannis</td>\n",
       "    </tr>\n",
       "    <tr>\n",
       "      <th>115</th>\n",
       "      <td>116</td>\n",
       "      <td>Sensor</td>\n",
       "      <td>PickupGestureWiimoteZ</td>\n",
       "      <td>50</td>\n",
       "      <td>50</td>\n",
       "      <td>10</td>\n",
       "      <td>Vary</td>\n",
       "      <td>0.4400</td>\n",
       "      <td>0.3400 (17)</td>\n",
       "      <td>0.3400</td>\n",
       "      <td>0.9000</td>\n",
       "      <td>J. Guna</td>\n",
       "    </tr>\n",
       "    <tr>\n",
       "      <th>119</th>\n",
       "      <td>120</td>\n",
       "      <td>Device</td>\n",
       "      <td>PLAID</td>\n",
       "      <td>537</td>\n",
       "      <td>537</td>\n",
       "      <td>11</td>\n",
       "      <td>Vary</td>\n",
       "      <td>0.4767</td>\n",
       "      <td>0.1657 (12)</td>\n",
       "      <td>0.1639</td>\n",
       "      <td>0.8380</td>\n",
       "      <td>P. Schafer</td>\n",
       "    </tr>\n",
       "    <tr>\n",
       "      <th>125</th>\n",
       "      <td>126</td>\n",
       "      <td>Sensor</td>\n",
       "      <td>ShakeGestureWiimoteZ</td>\n",
       "      <td>50</td>\n",
       "      <td>50</td>\n",
       "      <td>10</td>\n",
       "      <td>Vary</td>\n",
       "      <td>0.4000</td>\n",
       "      <td>0.1600 (6)</td>\n",
       "      <td>0.1400</td>\n",
       "      <td>0.9000</td>\n",
       "      <td>J. Guna</td>\n",
       "    </tr>\n",
       "  </tbody>\n",
       "</table>\n",
       "</div>"
      ],
      "text/plain": [
       "      ID        Type                   Name  Train  Test  Class Length  \\\n",
       "86    87      Sensor     AllGestureWiimoteX    300   700     10   Vary   \n",
       "87    88      Sensor     AllGestureWiimoteY    300   700     10   Vary   \n",
       "88    89      Sensor     AllGestureWiimoteZ    300   700     10   Vary   \n",
       "101  102  Trajectory        GestureMidAirD1    208   130     26   Vary   \n",
       "102  103  Trajectory        GestureMidAirD2    208   130     26   Vary   \n",
       "103  104  Trajectory        GestureMidAirD3    208   130     26   Vary   \n",
       "104  105      Sensor        GesturePebbleZ1    132   172      6   Vary   \n",
       "105  106      Sensor        GesturePebbleZ2    146   158      6   Vary   \n",
       "115  116      Sensor  PickupGestureWiimoteZ     50    50     10   Vary   \n",
       "119  120      Device                  PLAID    537   537     11   Vary   \n",
       "125  126      Sensor   ShakeGestureWiimoteZ     50    50     10   Vary   \n",
       "\n",
       "     ED (w=0) DTW (learned_w)  DTW (w=100)  Default rate Data donor/editor  \n",
       "86     0.4843     0.2829 (14)       0.2843        0.9000           J. Guna  \n",
       "87     0.4314      0.2700 (9)       0.2714        0.9000           J. Guna  \n",
       "88     0.5457     0.3486 (11)       0.3571        0.9000           J. Guna  \n",
       "101    0.4231      0.3615 (5)       0.4308        0.9615         H. A. Dau  \n",
       "102    0.5077      0.4000 (6)       0.3923        0.9615         H. A. Dau  \n",
       "103    0.6538      0.6231 (1)       0.6769        0.9615         H. A. Dau  \n",
       "104    0.2674      0.1744 (2)       0.2093        0.8140   I. Maglogiannis  \n",
       "105    0.3291      0.2215 (6)       0.3291        0.8101   I. Maglogiannis  \n",
       "115    0.4400     0.3400 (17)       0.3400        0.9000           J. Guna  \n",
       "119    0.4767     0.1657 (12)       0.1639        0.8380        P. Schafer  \n",
       "125    0.4000      0.1600 (6)       0.1400        0.9000           J. Guna  "
      ]
     },
     "execution_count": 11,
     "metadata": {},
     "output_type": "execute_result"
    }
   ],
   "source": [
    "df_ucr.query(\"Length == 'Vary'\")"
   ]
  },
  {
   "cell_type": "markdown",
   "id": "75e06da8-49a6-4c5e-8937-46222e1ee4ff",
   "metadata": {},
   "source": [
    "Some data sets are said to be of varying lengths. Let us remove them:"
   ]
  },
  {
   "cell_type": "code",
   "execution_count": 12,
   "id": "88d64258-9126-4b60-8fb8-20ba9a236a4b",
   "metadata": {},
   "outputs": [],
   "source": [
    "df_ucr = df_ucr.query(\"Length != 'Vary'\")\n",
    "df_ucr[\"Length\"] = df_ucr[\"Length\"].astype(int)"
   ]
  },
  {
   "cell_type": "code",
   "execution_count": 13,
   "id": "79732418-8080-40ef-bc9e-4aa1d5ad1213",
   "metadata": {},
   "outputs": [
    {
     "name": "stdout",
     "output_type": "stream",
     "text": [
      "Total number of equal-size univariate datasets:\n",
      "\t117\n"
     ]
    }
   ],
   "source": [
    "n_datasets_equalsize = df_ucr[\"Name\"].nunique()\n",
    "print(f\"Total number of equal-size univariate datasets:\\n\\t{n_datasets_equalsize}\")"
   ]
  },
  {
   "cell_type": "code",
   "execution_count": 14,
   "id": "c0af3c9e-571d-458e-a1ff-ead666325cbb",
   "metadata": {},
   "outputs": [],
   "source": [
    "if IS_EXPORT_DF:\n",
    "    df_ucr.to_csv(cwd / \"data/DataSummary_prep_equalsize.csv\", index=False)"
   ]
  },
  {
   "cell_type": "code",
   "execution_count": 15,
   "id": "18dea43c-e7cf-4962-b6d3-f42dd25100dd",
   "metadata": {},
   "outputs": [
    {
     "name": "stdout",
     "output_type": "stream",
     "text": [
      "Total number of equal-size univariate datasets that have at least 100 samples:\n",
      "\t94\n"
     ]
    }
   ],
   "source": [
    "df_ucr = df_ucr.query(\"Length >= 100\")\n",
    "n_datasets_equalsize_long = df_ucr[\"Name\"].nunique()\n",
    "print(f\"Total number of equal-size univariate datasets that have at least 100 samples:\\n\\t{n_datasets_equalsize_long}\")"
   ]
  },
  {
   "cell_type": "code",
   "execution_count": 16,
   "id": "683af624-7913-4114-90d7-9301d6dfca21",
   "metadata": {},
   "outputs": [],
   "source": [
    "if IS_EXPORT_DF:\n",
    "    df_ucr.to_csv(cwd / \"data/DataSummary_prep_equalsize_min100samples.csv\", index=False)"
   ]
  },
  {
   "cell_type": "markdown",
   "id": "ee7734dc-fa47-4f30-b26a-5782ebbdd098",
   "metadata": {},
   "source": [
    "# Focus on the 86 data sets from the classification benchmark"
   ]
  },
  {
   "cell_type": "markdown",
   "id": "c5c47e4d-321b-4efb-96e8-864315f8e2b7",
   "metadata": {},
   "source": [
    "Note that some data sets encountered computational issues during the classification benchmark. Hence, out of the 94 equal-size univariate data sets with at least 100 samples, 86 data sets are used in the benchmark."
   ]
  },
  {
   "cell_type": "markdown",
   "id": "2495d924-385f-430c-b039-65b4c650c49f",
   "metadata": {},
   "source": [
    "## Get data set names (hard coded)"
   ]
  },
  {
   "cell_type": "code",
   "execution_count": 17,
   "id": "bf3cb3f1-b2e0-49db-b08c-161b6f138ac7",
   "metadata": {},
   "outputs": [
    {
     "name": "stdout",
     "output_type": "stream",
     "text": [
      "86\n"
     ]
    }
   ],
   "source": [
    "print(len(l_datasets_classif_bench))"
   ]
  },
  {
   "cell_type": "code",
   "execution_count": 18,
   "id": "2db72641-5e50-4905-879d-7016b030b2eb",
   "metadata": {},
   "outputs": [
    {
     "name": "stdout",
     "output_type": "stream",
     "text": [
      "86\n"
     ]
    }
   ],
   "source": [
    "# Check if the data sets of the classification benchmark of equal-size and with at least 100 samples\n",
    "l_datasets_scope = df_ucr.query(\"Length >= 100\")[\"Name\"].unique().tolist()\n",
    "l = []\n",
    "for dataset in l_datasets_classif_bench:\n",
    "    l.append(dataset in l_datasets_scope)\n",
    "print(sum(l))"
   ]
  },
  {
   "cell_type": "code",
   "execution_count": 19,
   "id": "6ddce142-a8ac-4663-b628-f8a9f5b2fe01",
   "metadata": {},
   "outputs": [
    {
     "name": "stdout",
     "output_type": "stream",
     "text": [
      "True\n",
      "True\n",
      "True\n",
      "True\n"
     ]
    }
   ],
   "source": [
    "# Check if the data sets that are explicitly mentioned in the paper are part of the classification benchmark\n",
    "l_datasets_paper = [\"Meat\", \"Strawberry\", \"CBF\", \"Beef\"]\n",
    "for dataset in l_datasets_paper:\n",
    "    print(dataset in l_datasets_classif_bench)"
   ]
  },
  {
   "cell_type": "code",
   "execution_count": 20,
   "id": "dd029362-b63c-4f75-b490-c30f882b182a",
   "metadata": {},
   "outputs": [],
   "source": [
    "df_ucr_prep = df_ucr.query(f\"Name in {l_datasets_classif_bench}\")"
   ]
  },
  {
   "cell_type": "markdown",
   "id": "34fd3b35-f555-4117-97dc-5021813bfee4",
   "metadata": {},
   "source": [
    "## Describe"
   ]
  },
  {
   "cell_type": "code",
   "execution_count": 21,
   "id": "624422b3-7acf-4eb5-879d-acccfe36f050",
   "metadata": {},
   "outputs": [],
   "source": [
    "df_ucr_prep_desc = df_ucr_prep.copy()\n",
    "df_ucr_prep_desc[\"Train and Test\"] = df_ucr_prep_desc[\"Train\"].values + df_ucr_prep_desc[\"Test\"].values\n",
    "df_ucr_prep_desc = df_ucr_prep_desc[[\"Train and Test\", \"Length\", \"Class\"]].describe().round(0).astype(int)"
   ]
  },
  {
   "cell_type": "code",
   "execution_count": 22,
   "id": "ff3b2783-ff1d-49eb-968d-707874b96a5c",
   "metadata": {},
   "outputs": [
    {
     "data": {
      "text/html": [
       "<div>\n",
       "<style scoped>\n",
       "    .dataframe tbody tr th:only-of-type {\n",
       "        vertical-align: middle;\n",
       "    }\n",
       "\n",
       "    .dataframe tbody tr th {\n",
       "        vertical-align: top;\n",
       "    }\n",
       "\n",
       "    .dataframe thead th {\n",
       "        text-align: right;\n",
       "    }\n",
       "</style>\n",
       "<table border=\"1\" class=\"dataframe\">\n",
       "  <thead>\n",
       "    <tr style=\"text-align: right;\">\n",
       "      <th></th>\n",
       "      <th>Train and Test</th>\n",
       "      <th>Length</th>\n",
       "      <th>Class</th>\n",
       "    </tr>\n",
       "  </thead>\n",
       "  <tbody>\n",
       "    <tr>\n",
       "      <th>mean</th>\n",
       "      <td>1357</td>\n",
       "      <td>644</td>\n",
       "      <td>10</td>\n",
       "    </tr>\n",
       "    <tr>\n",
       "      <th>min</th>\n",
       "      <td>40</td>\n",
       "      <td>128</td>\n",
       "      <td>2</td>\n",
       "    </tr>\n",
       "    <tr>\n",
       "      <th>50%</th>\n",
       "      <td>687</td>\n",
       "      <td>456</td>\n",
       "      <td>4</td>\n",
       "    </tr>\n",
       "    <tr>\n",
       "      <th>max</th>\n",
       "      <td>9236</td>\n",
       "      <td>2844</td>\n",
       "      <td>60</td>\n",
       "    </tr>\n",
       "  </tbody>\n",
       "</table>\n",
       "</div>"
      ],
      "text/plain": [
       "      Train and Test  Length  Class\n",
       "mean            1357     644     10\n",
       "min               40     128      2\n",
       "50%              687     456      4\n",
       "max             9236    2844     60"
      ]
     },
     "execution_count": 22,
     "metadata": {},
     "output_type": "execute_result"
    }
   ],
   "source": [
    "df_ucr_prep_desc.loc[[\"mean\", \"min\", \"50%\", \"max\"]]"
   ]
  },
  {
   "cell_type": "markdown",
   "id": "5590261e-2602-4716-9d1c-2107375ea219",
   "metadata": {},
   "source": [
    "*Note*: It corresponds to Table 4 of the paper."
   ]
  },
  {
   "cell_type": "code",
   "execution_count": 23,
   "id": "22cda307-8a5a-456c-ae2c-ad06b4b859f3",
   "metadata": {},
   "outputs": [
    {
     "name": "stdout",
     "output_type": "stream",
     "text": [
      "\\begin{tabular}{lrrr}\n",
      " & Train and Test & Length & Class \\\\\n",
      "mean & 1357 & 644 & 10 \\\\\n",
      "min & 40 & 128 & 2 \\\\\n",
      "50% & 687 & 456 & 4 \\\\\n",
      "max & 9236 & 2844 & 60 \\\\\n",
      "\\end{tabular}\n",
      "\n"
     ]
    }
   ],
   "source": [
    "print(df_ucr_prep_desc.loc[[\"mean\", \"min\", \"50%\", \"max\"]].style.to_latex())"
   ]
  },
  {
   "cell_type": "markdown",
   "id": "a4edb069-904b-47f9-b5e0-616d183b54fd",
   "metadata": {},
   "source": [
    "Total number of samples:"
   ]
  },
  {
   "cell_type": "code",
   "execution_count": 24,
   "id": "7912bd10-0058-40f6-a63a-2292673a125a",
   "metadata": {},
   "outputs": [
    {
     "name": "stdout",
     "output_type": "stream",
     "text": [
      "66827003\n"
     ]
    }
   ],
   "source": [
    "pp.pprint(((df_ucr_prep[\"Train\"]+df_ucr_prep[\"Test\"])*df_ucr_prep[\"Length\"]).sum())"
   ]
  },
  {
   "cell_type": "markdown",
   "id": "fba2a5ce-f906-4fbb-950d-79f4a23460c2",
   "metadata": {},
   "source": [
    "# Compute the total space complexity of some symbolization methods on a data set"
   ]
  },
  {
   "cell_type": "code",
   "execution_count": 25,
   "id": "2f0c7384-35f5-44f4-9703-36481abd3d22",
   "metadata": {},
   "outputs": [
    {
     "data": {
      "text/html": [
       "<div>\n",
       "<style scoped>\n",
       "    .dataframe tbody tr th:only-of-type {\n",
       "        vertical-align: middle;\n",
       "    }\n",
       "\n",
       "    .dataframe tbody tr th {\n",
       "        vertical-align: top;\n",
       "    }\n",
       "\n",
       "    .dataframe thead th {\n",
       "        text-align: right;\n",
       "    }\n",
       "</style>\n",
       "<table border=\"1\" class=\"dataframe\">\n",
       "  <thead>\n",
       "    <tr style=\"text-align: right;\">\n",
       "      <th></th>\n",
       "      <th>ID</th>\n",
       "      <th>Type</th>\n",
       "      <th>Name</th>\n",
       "      <th>Train</th>\n",
       "      <th>Test</th>\n",
       "      <th>Class</th>\n",
       "      <th>Length</th>\n",
       "      <th>ED (w=0)</th>\n",
       "      <th>DTW (learned_w)</th>\n",
       "      <th>DTW (w=100)</th>\n",
       "      <th>Default rate</th>\n",
       "      <th>Data donor/editor</th>\n",
       "    </tr>\n",
       "  </thead>\n",
       "  <tbody>\n",
       "    <tr>\n",
       "      <th>0</th>\n",
       "      <td>1</td>\n",
       "      <td>Image</td>\n",
       "      <td>Adiac</td>\n",
       "      <td>390</td>\n",
       "      <td>391</td>\n",
       "      <td>37</td>\n",
       "      <td>176</td>\n",
       "      <td>0.3887</td>\n",
       "      <td>0.3913 (3)</td>\n",
       "      <td>0.3964</td>\n",
       "      <td>0.9591</td>\n",
       "      <td>A. Jalba</td>\n",
       "    </tr>\n",
       "    <tr>\n",
       "      <th>1</th>\n",
       "      <td>2</td>\n",
       "      <td>Image</td>\n",
       "      <td>ArrowHead</td>\n",
       "      <td>36</td>\n",
       "      <td>175</td>\n",
       "      <td>3</td>\n",
       "      <td>251</td>\n",
       "      <td>0.2000</td>\n",
       "      <td>0.2000 (0)</td>\n",
       "      <td>0.2971</td>\n",
       "      <td>0.6057</td>\n",
       "      <td>L. Ye &amp; E. Keogh</td>\n",
       "    </tr>\n",
       "    <tr>\n",
       "      <th>2</th>\n",
       "      <td>3</td>\n",
       "      <td>Spectro</td>\n",
       "      <td>Beef</td>\n",
       "      <td>30</td>\n",
       "      <td>30</td>\n",
       "      <td>5</td>\n",
       "      <td>470</td>\n",
       "      <td>0.3333</td>\n",
       "      <td>0.3333 (0)</td>\n",
       "      <td>0.3667</td>\n",
       "      <td>0.8000</td>\n",
       "      <td>K. Kemsley &amp;  A. Bagnall</td>\n",
       "    </tr>\n",
       "    <tr>\n",
       "      <th>3</th>\n",
       "      <td>4</td>\n",
       "      <td>Image</td>\n",
       "      <td>BeetleFly</td>\n",
       "      <td>20</td>\n",
       "      <td>20</td>\n",
       "      <td>2</td>\n",
       "      <td>512</td>\n",
       "      <td>0.2500</td>\n",
       "      <td>0.3000 (7)</td>\n",
       "      <td>0.3000</td>\n",
       "      <td>0.5000</td>\n",
       "      <td>J. Hills &amp; A. Bagnall</td>\n",
       "    </tr>\n",
       "    <tr>\n",
       "      <th>4</th>\n",
       "      <td>5</td>\n",
       "      <td>Image</td>\n",
       "      <td>BirdChicken</td>\n",
       "      <td>20</td>\n",
       "      <td>20</td>\n",
       "      <td>2</td>\n",
       "      <td>512</td>\n",
       "      <td>0.4500</td>\n",
       "      <td>0.3000 (6)</td>\n",
       "      <td>0.2500</td>\n",
       "      <td>0.5000</td>\n",
       "      <td>J. Hills &amp; A. Bagnall</td>\n",
       "    </tr>\n",
       "  </tbody>\n",
       "</table>\n",
       "</div>"
      ],
      "text/plain": [
       "   ID     Type         Name  Train  Test  Class  Length  ED (w=0)  \\\n",
       "0   1    Image        Adiac    390   391     37     176    0.3887   \n",
       "1   2    Image    ArrowHead     36   175      3     251    0.2000   \n",
       "2   3  Spectro         Beef     30    30      5     470    0.3333   \n",
       "3   4    Image    BeetleFly     20    20      2     512    0.2500   \n",
       "4   5    Image  BirdChicken     20    20      2     512    0.4500   \n",
       "\n",
       "  DTW (learned_w)  DTW (w=100)  Default rate         Data donor/editor  \n",
       "0      0.3913 (3)       0.3964        0.9591                  A. Jalba  \n",
       "1      0.2000 (0)       0.2971        0.6057          L. Ye & E. Keogh  \n",
       "2      0.3333 (0)       0.3667        0.8000  K. Kemsley &  A. Bagnall  \n",
       "3      0.3000 (7)       0.3000        0.5000     J. Hills & A. Bagnall  \n",
       "4      0.3000 (6)       0.2500        0.5000     J. Hills & A. Bagnall  "
      ]
     },
     "execution_count": 25,
     "metadata": {},
     "output_type": "execute_result"
    }
   ],
   "source": [
    "df_ucr_prep.head()"
   ]
  },
  {
   "cell_type": "code",
   "execution_count": 26,
   "id": "3d79accc-d4d4-4c98-b1e1-03adb766587e",
   "metadata": {},
   "outputs": [],
   "source": [
    "dataset = \"Meat\"\n",
    "w = 10  # word length\n",
    "A = 9  # alphabet size\n",
    "r = 64  # number of bits a real value is encoded on"
   ]
  },
  {
   "cell_type": "code",
   "execution_count": 27,
   "id": "426913dd-629f-44ac-9bb3-4b78e39c96f9",
   "metadata": {},
   "outputs": [
    {
     "name": "stdout",
     "output_type": "stream",
     "text": [
      "Number of samples:\n",
      "\t120\n",
      "Total memory usage of SAX (bits):\n",
      "\t4380\n",
      "Total memory usage of ABBA (bits):\n",
      "\t142044\n",
      "Comparison between ABBA and SAX (bits):\n",
      "\tmem_abba/mem_sax = 32\n",
      "Total memory usage of ASTRIDE (bits):\n",
      "\t5020\n"
     ]
    }
   ],
   "source": [
    "N = df_ucr_prep.query(f\"Name == '{dataset}'\")[[\"Train\", \"Test\"]].sum(axis=1).values[0]\n",
    "print(f\"Number of samples:\\n\\t{N}\")\n",
    "\n",
    "mem_sax = N*w*np.log2(A) + r*A\n",
    "print(f\"Total memory usage of SAX (bits):\\n\\t{mem_sax:.0f}\")\n",
    "\n",
    "mem_abba = N*w*np.log2(A) + 2*r*N*A\n",
    "print(f\"Total memory usage of ABBA (bits):\\n\\t{mem_abba:.0f}\")\n",
    "\n",
    "print(f\"Comparison between ABBA and SAX (bits):\\n\\t{mem_abba/mem_sax = :.0f}\")\n",
    "\n",
    "mem_astride = N*w*np.log2(A) + r*(A+w)\n",
    "print(f\"Total memory usage of ASTRIDE (bits):\\n\\t{mem_astride:.0f}\")"
   ]
  },
  {
   "cell_type": "code",
   "execution_count": 28,
   "id": "61fed6e7-68d2-49dd-8728-3ab1399a1e0e",
   "metadata": {},
   "outputs": [
    {
     "name": "stdout",
     "output_type": "stream",
     "text": [
      "Space complexity of the symbolic sequences of ABBA (bits):\n",
      "\t3804\n",
      "Space complexity of the dictionary of symbols of ABBA (bits):\n",
      "\t138240\n",
      "Comparison:\n",
      "\tmem_abba_dict/mem_abba_seq = 36\n"
     ]
    }
   ],
   "source": [
    "mem_abba_seq = N*w*np.log2(A)\n",
    "print(f\"Space complexity of the symbolic sequences of ABBA (bits):\\n\\t{mem_abba_seq:.0f}\")\n",
    "\n",
    "mem_abba_dict = 2*r*N*A\n",
    "print(f\"Space complexity of the dictionary of symbols of ABBA (bits):\\n\\t{mem_abba_dict:.0f}\")\n",
    "\n",
    "print(f\"Comparison:\\n\\t{mem_abba_dict/mem_abba_seq = :.0f}\")"
   ]
  },
  {
   "cell_type": "code",
   "execution_count": null,
   "id": "838ec0c0-cee9-4aa1-8d2a-92952b22025f",
   "metadata": {},
   "outputs": [],
   "source": []
  }
 ],
 "metadata": {
  "kernelspec": {
   "display_name": "Python 3 (ipykernel)",
   "language": "python",
   "name": "python3"
  },
  "language_info": {
   "codemirror_mode": {
    "name": "ipython",
    "version": 3
   },
   "file_extension": ".py",
   "mimetype": "text/x-python",
   "name": "python",
   "nbconvert_exporter": "python",
   "pygments_lexer": "ipython3",
   "version": "3.10.6"
  },
  "toc-autonumbering": true
 },
 "nbformat": 4,
 "nbformat_minor": 5
}
