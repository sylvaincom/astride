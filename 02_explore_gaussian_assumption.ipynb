{
 "cells": [
  {
   "cell_type": "markdown",
   "id": "1086b863-525f-4ccc-ba9d-3c01ed6959d2",
   "metadata": {},
   "source": [
    "<font size=\"+3\"><mark>Limitations of SAX-like methods / The means per segment do not come from a normal distribution</mark></font>"
   ]
  },
  {
   "cell_type": "markdown",
   "id": "88b04518-40d9-4cf3-97a6-6200fa76f3ae",
   "metadata": {},
   "source": [
    "# Introduction"
   ]
  },
  {
   "cell_type": "markdown",
   "id": "89fd317e-c115-40e1-a729-00d1c964760c",
   "metadata": {},
   "source": [
    "## README"
   ]
  },
  {
   "cell_type": "markdown",
   "id": "aa1814e1-2809-4b65-bae3-046c12b36ff8",
   "metadata": {},
   "source": [
    "_Associated GitHub repository: https://github.com/sylvaincom/astride._\n",
    "\n",
    "This notebook investigates the normality assumption on the means per (uniform) segment.\n",
    "\n",
    "It focuses on the 86 data sets that are used in the classification benchmark."
   ]
  },
  {
   "cell_type": "markdown",
   "id": "d9df79a5-7a63-4518-a697-e43c05885f25",
   "metadata": {},
   "source": [
    "## Configuration parameters"
   ]
  },
  {
   "cell_type": "code",
   "execution_count": 1,
   "id": "484be70b-821b-4714-9117-09d4e9e958a4",
   "metadata": {},
   "outputs": [],
   "source": [
    "IS_COMPUTE = True\n",
    "IS_EXPORT_DF = True\n",
    "IS_SAVE_FIG = True\n",
    "\n",
    "DATE_EXP = \"2023_02_08\""
   ]
  },
  {
   "cell_type": "markdown",
   "id": "0cc61e5e-ca82-4460-b36a-8160fe4d817e",
   "metadata": {},
   "source": [
    "## Imports"
   ]
  },
  {
   "cell_type": "code",
   "execution_count": 2,
   "id": "a16ae489-2d1c-47a9-aea5-2387919932bf",
   "metadata": {},
   "outputs": [],
   "source": [
    "from pathlib import Path\n",
    "import matplotlib.pyplot as plt\n",
    "import numpy as np\n",
    "import numpy.ma as ma\n",
    "import pandas as pd\n",
    "import seaborn as sns\n",
    "import random\n",
    "from tqdm import tqdm\n",
    "from datetime import timedelta\n",
    "from time import time\n",
    "import plotly.express as px\n",
    "import plotly.figure_factory as ff\n",
    "\n",
    "import ruptures as rpt\n",
    "from scipy.spatial.distance import euclidean\n",
    "from scipy.stats import normaltest, shapiro\n",
    "from sklearn.neighbors import KNeighborsClassifier\n",
    "from sklearn.pipeline import make_pipeline\n",
    "from sklearn.utils import Bunch\n",
    "from tslearn.metrics import dtw\n",
    "from tslearn.preprocessing import TimeSeriesScalerMeanVariance\n",
    "\n",
    "from src.metadata import l_datasets_classif_bench\n",
    "from src.segment_feature import SegmentFeature\n",
    "from src.segmentation import Segmentation\n",
    "from src.symbolic_signal_distance import SymbolicSignalDistance\n",
    "from src.symbolization import Symbolization\n",
    "from src.utils import load_ucr_dataset, create_path\n",
    "from src.utils_gaussian_assumption import run_gaussian_assumption, explore_dataset_means"
   ]
  },
  {
   "cell_type": "code",
   "execution_count": 3,
   "id": "488f3af3-b020-40c1-9b9a-019e5c15fd1c",
   "metadata": {},
   "outputs": [],
   "source": [
    "cwd = Path.cwd()\n",
    "sns.set_theme()\n",
    "plt.rcParams['figure.figsize'] = (10, 3)"
   ]
  },
  {
   "cell_type": "markdown",
   "id": "bbeb5d36-7e85-4e41-9e17-834e8e301afe",
   "metadata": {},
   "source": [
    "# Define the data sets"
   ]
  },
  {
   "cell_type": "code",
   "execution_count": 4,
   "id": "7e9278d3-d52d-48df-97e0-1951c9faa5a8",
   "metadata": {},
   "outputs": [],
   "source": [
    "l_datasets = l_datasets_classif_bench.copy()"
   ]
  },
  {
   "cell_type": "code",
   "execution_count": 5,
   "id": "2560199d-2105-4067-ac21-67ccbcc5536d",
   "metadata": {},
   "outputs": [
    {
     "name": "stdout",
     "output_type": "stream",
     "text": [
      "86\n"
     ]
    }
   ],
   "source": [
    "print(len(l_datasets))"
   ]
  },
  {
   "cell_type": "markdown",
   "id": "14fc30e7-f2be-43bb-9d0f-bd0445933eb0",
   "metadata": {},
   "source": [
    "# Launch the statistical test for all data sets"
   ]
  },
  {
   "cell_type": "code",
   "execution_count": 6,
   "id": "6f437102-4025-4b27-9243-646d135b4fb4",
   "metadata": {},
   "outputs": [
    {
     "name": "stderr",
     "output_type": "stream",
     "text": [
      "100%|██████████| 86/86 [03:12<00:00,  2.24s/it]"
     ]
    },
    {
     "name": "stdout",
     "output_type": "stream",
     "text": [
      "CPU times: user 3min 5s, sys: 4.08 s, total: 3min 9s\n",
      "Wall time: 3min 12s\n"
     ]
    },
    {
     "name": "stderr",
     "output_type": "stream",
     "text": [
      "\n"
     ]
    }
   ],
   "source": [
    "%%time\n",
    "\n",
    "if IS_COMPUTE:\n",
    "    d_segment_features_df = dict()\n",
    "    d_normality_test = dict()\n",
    "    print_bool = False\n",
    "\n",
    "    for (i, dataset_name_ucr) in enumerate(tqdm(l_datasets)):\n",
    "        b_get_means_per_segments = run_gaussian_assumption(\n",
    "            dataset_name_ucr=dataset_name_ucr,\n",
    "        )\n",
    "        d_segment_features_df[dataset_name_ucr] = b_get_means_per_segments.segment_features_df\n",
    "        d_normality_test[dataset_name_ucr] = [\n",
    "            b_get_means_per_segments.n_samples,\n",
    "            b_get_means_per_segments.n_segments,\n",
    "            b_get_means_per_segments.p_value,\n",
    "            b_get_means_per_segments.res_H0\n",
    "        ]"
   ]
  },
  {
   "cell_type": "markdown",
   "id": "92b167de-47e5-4961-8928-63cb042cc49d",
   "metadata": {},
   "source": [
    "# Explore final results"
   ]
  },
  {
   "cell_type": "markdown",
   "id": "ebc3de39-6d2f-4bdb-a6cf-5e63618214f5",
   "metadata": {},
   "source": [
    "## Process results"
   ]
  },
  {
   "cell_type": "code",
   "execution_count": 7,
   "id": "14786d1f-bf03-4c5d-bc79-b2815e513568",
   "metadata": {},
   "outputs": [
    {
     "data": {
      "text/html": [
       "<div>\n",
       "<style scoped>\n",
       "    .dataframe tbody tr th:only-of-type {\n",
       "        vertical-align: middle;\n",
       "    }\n",
       "\n",
       "    .dataframe tbody tr th {\n",
       "        vertical-align: top;\n",
       "    }\n",
       "\n",
       "    .dataframe thead th {\n",
       "        text-align: right;\n",
       "    }\n",
       "</style>\n",
       "<table border=\"1\" class=\"dataframe\">\n",
       "  <thead>\n",
       "    <tr style=\"text-align: right;\">\n",
       "      <th></th>\n",
       "      <th>dataset</th>\n",
       "      <th>n_samples</th>\n",
       "      <th>n_segments</th>\n",
       "      <th>p_value</th>\n",
       "      <th>normality_assumption</th>\n",
       "    </tr>\n",
       "  </thead>\n",
       "  <tbody>\n",
       "    <tr>\n",
       "      <th>0</th>\n",
       "      <td>Adiac</td>\n",
       "      <td>176</td>\n",
       "      <td>32</td>\n",
       "      <td>0.000000e+00</td>\n",
       "      <td>rejected</td>\n",
       "    </tr>\n",
       "    <tr>\n",
       "      <th>1</th>\n",
       "      <td>ArrowHead</td>\n",
       "      <td>251</td>\n",
       "      <td>32</td>\n",
       "      <td>0.000000e+00</td>\n",
       "      <td>rejected</td>\n",
       "    </tr>\n",
       "    <tr>\n",
       "      <th>2</th>\n",
       "      <td>Beef</td>\n",
       "      <td>470</td>\n",
       "      <td>64</td>\n",
       "      <td>2.584412e-15</td>\n",
       "      <td>rejected</td>\n",
       "    </tr>\n",
       "    <tr>\n",
       "      <th>3</th>\n",
       "      <td>BeetleFly</td>\n",
       "      <td>512</td>\n",
       "      <td>64</td>\n",
       "      <td>5.286344e-33</td>\n",
       "      <td>rejected</td>\n",
       "    </tr>\n",
       "    <tr>\n",
       "      <th>4</th>\n",
       "      <td>BirdChicken</td>\n",
       "      <td>512</td>\n",
       "      <td>64</td>\n",
       "      <td>2.231850e-14</td>\n",
       "      <td>rejected</td>\n",
       "    </tr>\n",
       "  </tbody>\n",
       "</table>\n",
       "</div>"
      ],
      "text/plain": [
       "       dataset  n_samples  n_segments       p_value normality_assumption\n",
       "0        Adiac        176          32  0.000000e+00             rejected\n",
       "1    ArrowHead        251          32  0.000000e+00             rejected\n",
       "2         Beef        470          64  2.584412e-15             rejected\n",
       "3    BeetleFly        512          64  5.286344e-33             rejected\n",
       "4  BirdChicken        512          64  2.231850e-14             rejected"
      ]
     },
     "metadata": {},
     "output_type": "display_data"
    }
   ],
   "source": [
    "if IS_COMPUTE:\n",
    "    df_normality_test = (\n",
    "        pd.DataFrame.from_dict(d_normality_test, orient='index')\n",
    "        .reset_index().rename(columns={\n",
    "            \"index\":\"dataset\",\n",
    "            0:\"n_samples\",\n",
    "            1:\"n_segments\",\n",
    "            2:\"p_value\",\n",
    "            3:\"normality_assumption\"\n",
    "        })\n",
    "    )\n",
    "    display(df_normality_test.head())\n",
    "\n",
    "if IS_EXPORT_DF:\n",
    "    folder = cwd / f\"results/{DATE_EXP}\"\n",
    "    create_path(folder)\n",
    "    df_normality_test.to_csv(folder / \"normality_test.csv\", index=False)"
   ]
  },
  {
   "cell_type": "code",
   "execution_count": 8,
   "id": "252b15ab-bf18-4070-a676-7238e6cb12a4",
   "metadata": {},
   "outputs": [],
   "source": [
    "# Load the computed data\n",
    "df_normality_test = pd.read_csv(cwd / f\"results/{DATE_EXP}/normality_test.csv\")"
   ]
  },
  {
   "cell_type": "code",
   "execution_count": 9,
   "id": "efbac7b0-cfb9-4b4e-8cfe-64733f96d23c",
   "metadata": {},
   "outputs": [
    {
     "name": "stdout",
     "output_type": "stream",
     "text": [
      "There are 0 data sets with a NaN p-value.\n",
      "\n",
      "These (eventual) data sets are the following:\n"
     ]
    },
    {
     "data": {
      "text/html": [
       "<div>\n",
       "<style scoped>\n",
       "    .dataframe tbody tr th:only-of-type {\n",
       "        vertical-align: middle;\n",
       "    }\n",
       "\n",
       "    .dataframe tbody tr th {\n",
       "        vertical-align: top;\n",
       "    }\n",
       "\n",
       "    .dataframe thead th {\n",
       "        text-align: right;\n",
       "    }\n",
       "</style>\n",
       "<table border=\"1\" class=\"dataframe\">\n",
       "  <thead>\n",
       "    <tr style=\"text-align: right;\">\n",
       "      <th></th>\n",
       "      <th>dataset</th>\n",
       "      <th>n_samples</th>\n",
       "      <th>n_segments</th>\n",
       "      <th>p_value</th>\n",
       "      <th>normality_assumption</th>\n",
       "    </tr>\n",
       "  </thead>\n",
       "  <tbody>\n",
       "  </tbody>\n",
       "</table>\n",
       "</div>"
      ],
      "text/plain": [
       "Empty DataFrame\n",
       "Columns: [dataset, n_samples, n_segments, p_value, normality_assumption]\n",
       "Index: []"
      ]
     },
     "metadata": {},
     "output_type": "display_data"
    },
    {
     "name": "stdout",
     "output_type": "stream",
     "text": [
      "\n",
      "Percentage of data sets that respect the normality assumption or not (beware of NaNs):\n"
     ]
    },
    {
     "data": {
      "text/plain": [
       "rejected    100.0\n",
       "Name: normality_assumption, dtype: float64"
      ]
     },
     "metadata": {},
     "output_type": "display_data"
    }
   ],
   "source": [
    "pvalue_na = df_normality_test[\"p_value\"].isna().sum()\n",
    "print(f\"There are {pvalue_na} data sets with a NaN p-value.\")\n",
    "\n",
    "print(\"\\nThese (eventual) data sets are the following:\")\n",
    "display(df_normality_test[df_normality_test[\"p_value\"].isna()])\n",
    "\n",
    "print(\"\\nPercentage of data sets that respect the normality assumption or not (beware of NaNs):\")\n",
    "display(df_normality_test[\"normality_assumption\"].value_counts() / len(df_normality_test) * 100)"
   ]
  },
  {
   "cell_type": "markdown",
   "id": "a952db09-c268-4c5b-a70b-b907f2c6d15a",
   "metadata": {},
   "source": [
    "<mark>All data sets are rejected!</mark>"
   ]
  },
  {
   "cell_type": "code",
   "execution_count": 10,
   "id": "f74d383b-559a-4c5f-af21-7a3f232608c4",
   "metadata": {},
   "outputs": [
    {
     "data": {
      "text/html": [
       "<div>\n",
       "<style scoped>\n",
       "    .dataframe tbody tr th:only-of-type {\n",
       "        vertical-align: middle;\n",
       "    }\n",
       "\n",
       "    .dataframe tbody tr th {\n",
       "        vertical-align: top;\n",
       "    }\n",
       "\n",
       "    .dataframe thead th {\n",
       "        text-align: right;\n",
       "    }\n",
       "</style>\n",
       "<table border=\"1\" class=\"dataframe\">\n",
       "  <thead>\n",
       "    <tr style=\"text-align: right;\">\n",
       "      <th></th>\n",
       "      <th>dataset</th>\n",
       "      <th>mean_feat</th>\n",
       "      <th>signal_index</th>\n",
       "      <th>segment_start</th>\n",
       "      <th>segment_end</th>\n",
       "      <th>segment_length</th>\n",
       "    </tr>\n",
       "  </thead>\n",
       "  <tbody>\n",
       "    <tr>\n",
       "      <th>75051</th>\n",
       "      <td>NonInvasiveFetalECGThorax1</td>\n",
       "      <td>-0.636919</td>\n",
       "      <td>1172</td>\n",
       "      <td>503</td>\n",
       "      <td>514</td>\n",
       "      <td>11</td>\n",
       "    </tr>\n",
       "    <tr>\n",
       "      <th>128724</th>\n",
       "      <td>MixedShapesSmallTrain</td>\n",
       "      <td>-0.936167</td>\n",
       "      <td>2011</td>\n",
       "      <td>319</td>\n",
       "      <td>335</td>\n",
       "      <td>16</td>\n",
       "    </tr>\n",
       "    <tr>\n",
       "      <th>74652</th>\n",
       "      <td>NonInvasiveFetalECGThorax2</td>\n",
       "      <td>-0.711779</td>\n",
       "      <td>1166</td>\n",
       "      <td>327</td>\n",
       "      <td>339</td>\n",
       "      <td>12</td>\n",
       "    </tr>\n",
       "    <tr>\n",
       "      <th>135032</th>\n",
       "      <td>StarLightCurves</td>\n",
       "      <td>0.048068</td>\n",
       "      <td>2109</td>\n",
       "      <td>895</td>\n",
       "      <td>911</td>\n",
       "      <td>16</td>\n",
       "    </tr>\n",
       "    <tr>\n",
       "      <th>36911</th>\n",
       "      <td>InlineSkate</td>\n",
       "      <td>-0.754936</td>\n",
       "      <td>576</td>\n",
       "      <td>1381</td>\n",
       "      <td>1410</td>\n",
       "      <td>29</td>\n",
       "    </tr>\n",
       "  </tbody>\n",
       "</table>\n",
       "</div>"
      ],
      "text/plain": [
       "                           dataset  mean_feat  signal_index  segment_start  \\\n",
       "75051   NonInvasiveFetalECGThorax1  -0.636919          1172            503   \n",
       "128724       MixedShapesSmallTrain  -0.936167          2011            319   \n",
       "74652   NonInvasiveFetalECGThorax2  -0.711779          1166            327   \n",
       "135032             StarLightCurves   0.048068          2109            895   \n",
       "36911                  InlineSkate  -0.754936           576           1381   \n",
       "\n",
       "        segment_end  segment_length  \n",
       "75051           514              11  \n",
       "128724          335              16  \n",
       "74652           339              12  \n",
       "135032          911              16  \n",
       "36911          1410              29  "
      ]
     },
     "metadata": {},
     "output_type": "display_data"
    }
   ],
   "source": [
    "if IS_COMPUTE:\n",
    "    \n",
    "    l_segment_features_df = []\n",
    "    for key, value in d_segment_features_df.items():\n",
    "        dataset_name_ucr = key\n",
    "        segment_features_df = value\n",
    "        segment_features_df[\"dataset\"] = dataset_name_ucr\n",
    "        l_segment_features_df.append(segment_features_df)\n",
    "    all_segment_features_df = pd.concat(l_segment_features_df)\n",
    "\n",
    "    l_columns = [\"dataset\"] + [elem for elem in all_segment_features_df.columns.tolist() if elem != \"dataset\"]\n",
    "    all_segment_features_df = all_segment_features_df[l_columns]\n",
    "\n",
    "    display(all_segment_features_df.sample(5))\n",
    "\n",
    "if IS_EXPORT_DF:\n",
    "    folder = cwd / f\"results/{DATE_EXP}\"\n",
    "    create_path(folder)\n",
    "    all_segment_features_df.to_csv(folder / \"all_segment_features_df.csv\", index=False)"
   ]
  },
  {
   "cell_type": "code",
   "execution_count": 11,
   "id": "01c17383-b428-4ff0-b6e2-50b5c81ae9b0",
   "metadata": {},
   "outputs": [],
   "source": [
    "# Load the computed data\n",
    "all_segment_features_df = pd.read_csv(cwd / f\"results/{DATE_EXP}/all_segment_features_df.csv\")"
   ]
  },
  {
   "cell_type": "markdown",
   "id": "20015390-9976-4b29-be59-9d05bdbd14fa",
   "metadata": {},
   "source": [
    "## Explore results"
   ]
  },
  {
   "cell_type": "code",
   "execution_count": 12,
   "id": "b2f028cc-51dc-4c36-8f82-292a219fc909",
   "metadata": {},
   "outputs": [
    {
     "name": "stdout",
     "output_type": "stream",
     "text": [
      "For the Strawberry data set, there are 0.0% of NaN mean values.\n"
     ]
    },
    {
     "data": {
      "image/png": "[encoded data removed]",
      "text/plain": [
       "<Figure size 800x400 with 1 Axes>"
      ]
     },
     "metadata": {},
     "output_type": "display_data"
    },
    {
     "data": {
      "text/html": [
       "<div>\n",
       "<style scoped>\n",
       "    .dataframe tbody tr th:only-of-type {\n",
       "        vertical-align: middle;\n",
       "    }\n",
       "\n",
       "    .dataframe tbody tr th {\n",
       "        vertical-align: top;\n",
       "    }\n",
       "\n",
       "    .dataframe thead th {\n",
       "        text-align: right;\n",
       "    }\n",
       "</style>\n",
       "<table border=\"1\" class=\"dataframe\">\n",
       "  <thead>\n",
       "    <tr style=\"text-align: right;\">\n",
       "      <th></th>\n",
       "      <th>dataset</th>\n",
       "      <th>n_samples</th>\n",
       "      <th>n_segments</th>\n",
       "      <th>p_value</th>\n",
       "      <th>normality_assumption</th>\n",
       "    </tr>\n",
       "  </thead>\n",
       "  <tbody>\n",
       "    <tr>\n",
       "      <th>49</th>\n",
       "      <td>Strawberry</td>\n",
       "      <td>235</td>\n",
       "      <td>32</td>\n",
       "      <td>0.0</td>\n",
       "      <td>rejected</td>\n",
       "    </tr>\n",
       "  </tbody>\n",
       "</table>\n",
       "</div>"
      ],
      "text/plain": [
       "       dataset  n_samples  n_segments  p_value normality_assumption\n",
       "49  Strawberry        235          32      0.0             rejected"
      ]
     },
     "execution_count": 12,
     "metadata": {},
     "output_type": "execute_result"
    }
   ],
   "source": [
    "explore_dataset_means(\n",
    "    dataset_name_ucr=\"Strawberry\",\n",
    "    all_segment_features_df=all_segment_features_df,\n",
    "    df_normality_test=df_normality_test,\n",
    "    is_save_fig=True,\n",
    "    date_exp=DATE_EXP,\n",
    ")"
   ]
  },
  {
   "cell_type": "markdown",
   "id": "cb123529-43c2-4598-848d-b40d35f472df",
   "metadata": {},
   "source": [
    "*Note*: This corresponds to Figure 2 of the paper."
   ]
  },
  {
   "cell_type": "code",
   "execution_count": null,
   "id": "02006e3c-2b8a-4968-ae49-094384ee48ca",
   "metadata": {},
   "outputs": [],
   "source": []
  }
 ],
 "metadata": {
  "kernelspec": {
   "display_name": "Python 3 (ipykernel)",
   "language": "python",
   "name": "python3"
  },
  "language_info": {
   "codemirror_mode": {
    "name": "ipython",
    "version": 3
   },
   "file_extension": ".py",
   "mimetype": "text/x-python",
   "name": "python",
   "nbconvert_exporter": "python",
   "pygments_lexer": "ipython3",
   "version": "3.10.6"
  },
  "toc-autonumbering": true,
  "toc-showcode": false,
  "toc-showmarkdowntxt": false
 },
 "nbformat": 4,
 "nbformat_minor": 5
}
