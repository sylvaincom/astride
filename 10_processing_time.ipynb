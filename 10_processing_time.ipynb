{
 "cells": [
  {
   "cell_type": "markdown",
   "id": "41f221fd-671e-4920-8039-e38bcf3c6b72",
   "metadata": {},
   "source": [
    "<font size=\"+3\"><mark>Processing times of SAX, 1d-SAX, ASTRIDE, and FASTRIDE</mark></font>"
   ]
  },
  {
   "cell_type": "markdown",
   "id": "703d5586-2d04-442c-847f-fadf754066e9",
   "metadata": {},
   "source": [
    "# Introduction"
   ]
  },
  {
   "cell_type": "markdown",
   "id": "9c18fbb5-a15f-4340-885b-854a71dff7a3",
   "metadata": {},
   "source": [
    "## README"
   ]
  },
  {
   "cell_type": "markdown",
   "id": "eeb61db8-910b-4abc-900f-b84e4639253d",
   "metadata": {},
   "source": [
    "_Associated GitHub repository: https://github.com/sylvaincom/astride._"
   ]
  },
  {
   "cell_type": "markdown",
   "id": "8d5581a8-89f2-4f4f-a1de-d8ccd9bff32c",
   "metadata": {},
   "source": [
    "## Imports"
   ]
  },
  {
   "cell_type": "code",
   "execution_count": 1,
   "id": "978cb1cc-980d-436c-8201-20ef84dda16e",
   "metadata": {},
   "outputs": [],
   "source": [
    "import pandas as pd\n",
    "import numpy as np\n",
    "import matplotlib.pyplot as plt\n",
    "import plotly.express as px\n",
    "import seaborn as sns\n",
    "from pathlib import Path\n",
    "from time import process_time\n",
    "\n",
    "import pprint\n",
    "\n",
    "from src.utils import concatenate_df\n",
    "\n",
    "\n",
    "import random\n",
    "\n",
    "from src.segment_feature import SegmentFeature\n",
    "from src.segmentation import Segmentation\n",
    "from sklearn.neighbors import KNeighborsClassifier\n",
    "from sklearn.pipeline import make_pipeline\n",
    "from sklearn.utils import Bunch\n",
    "from src.symbolic_signal_distance import SymbolicSignalDistance\n",
    "from src.symbolization import Symbolization\n",
    "from tslearn.preprocessing import TimeSeriesScalerMeanVariance\n",
    "from src.utils import load_ucr_dataset\n",
    "\n",
    "from tslearn.piecewise import OneD_SymbolicAggregateApproximation, SymbolicAggregateApproximation\n",
    "from tslearn.metrics.cysax import cydist_1d_sax, cydist_sax\n",
    "from sklearn.base import BaseEstimator\n",
    "from sklearn.model_selection import cross_val_score\n",
    "\n",
    "from src.utils_sfa import test_SFA, train_SFA"
   ]
  },
  {
   "cell_type": "markdown",
   "id": "d4461f77-ad1f-4136-a21c-c065c951927b",
   "metadata": {},
   "source": [
    "## Configuration parameters"
   ]
  },
  {
   "cell_type": "code",
   "execution_count": 2,
   "id": "18dd47bc-ea4e-46c6-85a7-ad8fc7ea7d29",
   "metadata": {},
   "outputs": [],
   "source": [
    "pp = pprint.PrettyPrinter()\n",
    "cwd = Path.cwd()"
   ]
  },
  {
   "cell_type": "code",
   "execution_count": 3,
   "id": "ed581847-6a31-4b74-85b7-05cbabc853d7",
   "metadata": {},
   "outputs": [
    {
     "name": "stdout",
     "output_type": "stream",
     "text": [
      "N_SYMBOLS_MEAN = 3\n",
      "N_SYMBOLS_SLOPE = 3\n"
     ]
    }
   ],
   "source": [
    "DATASET_NAME_UCR = \"ECG200\"\n",
    "N_SEGMENTS = 10\n",
    "N_SYMBOLS = 9\n",
    "\n",
    "N_SYMBOLS_MEAN = int(np.sqrt(N_SYMBOLS))\n",
    "N_SYMBOLS_SLOPE = int(np.sqrt(N_SYMBOLS))\n",
    "print(f\"{N_SYMBOLS_MEAN = }\")\n",
    "print(f\"{N_SYMBOLS_SLOPE = }\")"
   ]
  },
  {
   "cell_type": "markdown",
   "id": "a9b1ac5b-4589-408a-bc87-cc79078b0a96",
   "metadata": {},
   "source": [
    "# Preparing the data"
   ]
  },
  {
   "cell_type": "markdown",
   "id": "ad1c1a63-6df2-4e87-a8ee-c5522f92f115",
   "metadata": {},
   "source": [
    "## Set up"
   ]
  },
  {
   "cell_type": "code",
   "execution_count": 4,
   "id": "b9229c85-e9d8-444e-b718-3b39d261c20f",
   "metadata": {},
   "outputs": [
    {
     "name": "stdout",
     "output_type": "stream",
     "text": [
      "96\n"
     ]
    }
   ],
   "source": [
    "b_load_ucr_dataset = load_ucr_dataset(DATASET_NAME_UCR)\n",
    "y_train_test = b_load_ucr_dataset.y_train_test\n",
    "y_train = b_load_ucr_dataset.y_train\n",
    "y_test = b_load_ucr_dataset.y_test\n",
    "l_train_test = b_load_ucr_dataset.l_train_test\n",
    "l_train = b_load_ucr_dataset.l_train\n",
    "l_test = b_load_ucr_dataset.l_test\n",
    "X_train_test = b_load_ucr_dataset.X_train_test\n",
    "X_train = b_load_ucr_dataset.X_train\n",
    "X_test = b_load_ucr_dataset.X_test\n",
    "\n",
    "N_SAMPLES = len(l_train_test[0])\n",
    "print(N_SAMPLES)"
   ]
  },
  {
   "cell_type": "code",
   "execution_count": 5,
   "id": "1d6404b0-714b-461c-b30b-74af4f9246c4",
   "metadata": {},
   "outputs": [
    {
     "name": "stdout",
     "output_type": "stream",
     "text": [
      "100\n",
      "100\n"
     ]
    }
   ],
   "source": [
    "print(len(X_train))\n",
    "print(len(X_test))"
   ]
  },
  {
   "cell_type": "code",
   "execution_count": 6,
   "id": "ed5b7180-4052-44ad-a647-7ba9cdedefa4",
   "metadata": {},
   "outputs": [],
   "source": [
    "scaler = TimeSeriesScalerMeanVariance()\n",
    "scaled_X_train_test = scaler.fit_transform(X_train_test)"
   ]
  },
  {
   "cell_type": "code",
   "execution_count": 7,
   "id": "54fa3b71-00b5-4664-8db9-139be944b686",
   "metadata": {},
   "outputs": [
    {
     "data": {
      "text/plain": [
       "10.42"
      ]
     },
     "execution_count": 7,
     "metadata": {},
     "output_type": "execute_result"
    }
   ],
   "source": [
    "round(N_SEGMENTS / N_SAMPLES * 100, 2)"
   ]
  },
  {
   "cell_type": "markdown",
   "id": "f1e5d58a-aff8-4820-8374-8d3cde30b30f",
   "metadata": {},
   "source": [
    "## Some code for vanilla SAX from `tslearn`"
   ]
  },
  {
   "cell_type": "code",
   "execution_count": 8,
   "id": "5849117f-d094-4530-b898-f174ed6ec093",
   "metadata": {},
   "outputs": [],
   "source": [
    "class MySAX(SymbolicAggregateApproximation):\n",
    "    def _transform(self, X, y=None, *args, **kwargs):\n",
    "        return Bunch(\n",
    "            data=super()._transform(X=X, y=y),\n",
    "            breakpoints_avg_=self.breakpoints_avg_,\n",
    "            _X_fit_dims_=self._X_fit_dims_\n",
    "        )\n",
    "\n",
    "class DistInterfaceSAX(BaseEstimator):\n",
    "    def fit(self, X, y=None, *args, **kwargs):\n",
    "        self.X_transformed = X.data\n",
    "        self.breakpoints_avg_ = X.breakpoints_avg_\n",
    "        self._X_fit_dims_ = X._X_fit_dims_\n",
    "        return self\n",
    "    \n",
    "    def distance_sax(self, sax1, sax2):\n",
    "        return cydist_sax(\n",
    "            sax1,\n",
    "            sax2,\n",
    "            self.breakpoints_avg_,\n",
    "            self._X_fit_dims_[1]\n",
    "        )\n",
    "    \n",
    "    def transform(self, X, y=None):\n",
    "        distance_matrix = SymbolicSignalDistance.collection_dist(\n",
    "            list_of_test_signals=X.data,\n",
    "            list_of_train_signals=self.X_transformed,\n",
    "            metric=self.distance_sax\n",
    "        )\n",
    "        return distance_matrix  # (n_samples_test, n_samples_train)"
   ]
  },
  {
   "cell_type": "markdown",
   "id": "d921cfd5-f8a3-4809-90b1-e13a52bbdb72",
   "metadata": {},
   "source": [
    "## Some code for 1d-SAX from `tslearn`"
   ]
  },
  {
   "cell_type": "code",
   "execution_count": 9,
   "id": "9cbe5a73-b1cc-4268-b05e-dec2f0c47e87",
   "metadata": {},
   "outputs": [],
   "source": [
    "class MyOneD(OneD_SymbolicAggregateApproximation):\n",
    "    def _transform(self, X, y=None, *args, **kwargs):\n",
    "        return Bunch(\n",
    "            data=super()._transform(X=X, y=y),\n",
    "            breakpoints_avg_middle_=self.breakpoints_avg_middle_,\n",
    "            breakpoints_slope_middle_=self.breakpoints_slope_middle_,\n",
    "            _X_fit_dims_=self._X_fit_dims_\n",
    "        )\n",
    "\n",
    "class DistInterfaceOneD(BaseEstimator):\n",
    "    def fit(self, X, y=None, *args, **kwargs):\n",
    "        self.X_transformed = X.data\n",
    "        self.breakpoints_avg_middle_ = X.breakpoints_avg_middle_\n",
    "        self.breakpoints_slope_middle_ = X.breakpoints_slope_middle_\n",
    "        self._X_fit_dims_ = X._X_fit_dims_\n",
    "        return self\n",
    "    \n",
    "    def distance_1D_sax(self, sax1, sax2):\n",
    "        return cydist_1d_sax(\n",
    "            sax1,\n",
    "            sax2,\n",
    "            self.breakpoints_avg_middle_,\n",
    "            self.breakpoints_slope_middle_,\n",
    "            self._X_fit_dims_[1]\n",
    "        )\n",
    "    \n",
    "    def transform(self, X, y=None):\n",
    "        distance_matrix = SymbolicSignalDistance.collection_dist(\n",
    "            list_of_test_signals=X.data,\n",
    "            list_of_train_signals=self.X_transformed,\n",
    "            metric=self.distance_1D_sax\n",
    "        )\n",
    "        return distance_matrix  # (n_samples_test, n_samples_train)"
   ]
  },
  {
   "cell_type": "markdown",
   "id": "18dc29c2-ddd9-440a-87a8-e5d379236d50",
   "metadata": {},
   "source": [
    "# Symbolization processing time"
   ]
  },
  {
   "cell_type": "code",
   "execution_count": 10,
   "id": "20c6c198-9926-4465-beff-bc13566f17f2",
   "metadata": {},
   "outputs": [],
   "source": [
    "n_iter = 10"
   ]
  },
  {
   "cell_type": "code",
   "execution_count": 11,
   "id": "47d2b698-4621-4e8d-b5e0-29dc202bd668",
   "metadata": {},
   "outputs": [
    {
     "name": "stdout",
     "output_type": "stream",
     "text": [
      "Elapsed time for Vanilla SAX in seconds:\n",
      "\t 0.27\n"
     ]
    }
   ],
   "source": [
    "# Vanilla SAX\n",
    "\n",
    "pipe_sax_symb = (\n",
    "    make_pipeline(\n",
    "        TimeSeriesScalerMeanVariance(),\n",
    "        Segmentation(\n",
    "            univariate_or_multivariate=\"multivariate\",\n",
    "            uniform_or_adaptive=\"uniform\",\n",
    "            mean_or_slope=None,\n",
    "            n_segments=N_SEGMENTS,\n",
    "            pen_factor=None\n",
    "        ),\n",
    "        SegmentFeature(\n",
    "            features_names=[\"mean\"]\n",
    "        ),\n",
    "        Symbolization(\n",
    "            n_symbols=N_SYMBOLS,\n",
    "            symb_method=\"quantif\",\n",
    "            symb_quantif_method=\"gaussian\",\n",
    "            symb_cluster_method=None,\n",
    "            features_scaling=None,\n",
    "            reconstruct_bool=False,\n",
    "            n_regime_lengths=None,\n",
    "            seglen_bins_method=None,\n",
    "            lookup_table_type = \"mindist\"\n",
    "        ),\n",
    "    )\n",
    ")\n",
    "\n",
    "t_start = process_time()\n",
    "\n",
    "for i in range(n_iter):\n",
    "    _ = pipe_sax_symb.fit(l_train).transform(l_train_test)\n",
    "\n",
    "t_stop = process_time()\n",
    "symb_time_sax = (t_stop-t_start)/n_iter\n",
    "print(\"Elapsed time for Vanilla SAX in seconds:\\n\\t\", round(symb_time_sax, 2))"
   ]
  },
  {
   "cell_type": "code",
   "execution_count": 12,
   "id": "ecbfce8e-d995-4411-a810-411915e601f2",
   "metadata": {},
   "outputs": [
    {
     "name": "stdout",
     "output_type": "stream",
     "text": [
      "Elapsed time for vanilla SAX (tslearn) in seconds:\n",
      "\t 0.02\n"
     ]
    },
    {
     "name": "stderr",
     "output_type": "stream",
     "text": [
      "/Users/swc/opt/anaconda3/envs/sax/lib/python3.10/site-packages/tslearn/utils/utils.py:88: UserWarning: 2-Dimensional data passed. Assuming these are 100 1-dimensional timeseries\n",
      "  warnings.warn('2-Dimensional data passed. Assuming these are '\n",
      "/Users/swc/opt/anaconda3/envs/sax/lib/python3.10/site-packages/tslearn/utils/utils.py:88: UserWarning: 2-Dimensional data passed. Assuming these are 200 1-dimensional timeseries\n",
      "  warnings.warn('2-Dimensional data passed. Assuming these are '\n",
      "/Users/swc/opt/anaconda3/envs/sax/lib/python3.10/site-packages/tslearn/utils/utils.py:88: UserWarning: 2-Dimensional data passed. Assuming these are 100 1-dimensional timeseries\n",
      "  warnings.warn('2-Dimensional data passed. Assuming these are '\n",
      "/Users/swc/opt/anaconda3/envs/sax/lib/python3.10/site-packages/tslearn/utils/utils.py:88: UserWarning: 2-Dimensional data passed. Assuming these are 200 1-dimensional timeseries\n",
      "  warnings.warn('2-Dimensional data passed. Assuming these are '\n",
      "/Users/swc/opt/anaconda3/envs/sax/lib/python3.10/site-packages/tslearn/utils/utils.py:88: UserWarning: 2-Dimensional data passed. Assuming these are 100 1-dimensional timeseries\n",
      "  warnings.warn('2-Dimensional data passed. Assuming these are '\n",
      "/Users/swc/opt/anaconda3/envs/sax/lib/python3.10/site-packages/tslearn/utils/utils.py:88: UserWarning: 2-Dimensional data passed. Assuming these are 200 1-dimensional timeseries\n",
      "  warnings.warn('2-Dimensional data passed. Assuming these are '\n",
      "/Users/swc/opt/anaconda3/envs/sax/lib/python3.10/site-packages/tslearn/utils/utils.py:88: UserWarning: 2-Dimensional data passed. Assuming these are 100 1-dimensional timeseries\n",
      "  warnings.warn('2-Dimensional data passed. Assuming these are '\n",
      "/Users/swc/opt/anaconda3/envs/sax/lib/python3.10/site-packages/tslearn/utils/utils.py:88: UserWarning: 2-Dimensional data passed. Assuming these are 200 1-dimensional timeseries\n",
      "  warnings.warn('2-Dimensional data passed. Assuming these are '\n",
      "/Users/swc/opt/anaconda3/envs/sax/lib/python3.10/site-packages/tslearn/utils/utils.py:88: UserWarning: 2-Dimensional data passed. Assuming these are 100 1-dimensional timeseries\n",
      "  warnings.warn('2-Dimensional data passed. Assuming these are '\n",
      "/Users/swc/opt/anaconda3/envs/sax/lib/python3.10/site-packages/tslearn/utils/utils.py:88: UserWarning: 2-Dimensional data passed. Assuming these are 200 1-dimensional timeseries\n",
      "  warnings.warn('2-Dimensional data passed. Assuming these are '\n",
      "/Users/swc/opt/anaconda3/envs/sax/lib/python3.10/site-packages/tslearn/utils/utils.py:88: UserWarning: 2-Dimensional data passed. Assuming these are 100 1-dimensional timeseries\n",
      "  warnings.warn('2-Dimensional data passed. Assuming these are '\n",
      "/Users/swc/opt/anaconda3/envs/sax/lib/python3.10/site-packages/tslearn/utils/utils.py:88: UserWarning: 2-Dimensional data passed. Assuming these are 200 1-dimensional timeseries\n",
      "  warnings.warn('2-Dimensional data passed. Assuming these are '\n",
      "/Users/swc/opt/anaconda3/envs/sax/lib/python3.10/site-packages/tslearn/utils/utils.py:88: UserWarning: 2-Dimensional data passed. Assuming these are 100 1-dimensional timeseries\n",
      "  warnings.warn('2-Dimensional data passed. Assuming these are '\n",
      "/Users/swc/opt/anaconda3/envs/sax/lib/python3.10/site-packages/tslearn/utils/utils.py:88: UserWarning: 2-Dimensional data passed. Assuming these are 200 1-dimensional timeseries\n",
      "  warnings.warn('2-Dimensional data passed. Assuming these are '\n",
      "/Users/swc/opt/anaconda3/envs/sax/lib/python3.10/site-packages/tslearn/utils/utils.py:88: UserWarning: 2-Dimensional data passed. Assuming these are 100 1-dimensional timeseries\n",
      "  warnings.warn('2-Dimensional data passed. Assuming these are '\n",
      "/Users/swc/opt/anaconda3/envs/sax/lib/python3.10/site-packages/tslearn/utils/utils.py:88: UserWarning: 2-Dimensional data passed. Assuming these are 200 1-dimensional timeseries\n",
      "  warnings.warn('2-Dimensional data passed. Assuming these are '\n",
      "/Users/swc/opt/anaconda3/envs/sax/lib/python3.10/site-packages/tslearn/utils/utils.py:88: UserWarning: 2-Dimensional data passed. Assuming these are 100 1-dimensional timeseries\n",
      "  warnings.warn('2-Dimensional data passed. Assuming these are '\n",
      "/Users/swc/opt/anaconda3/envs/sax/lib/python3.10/site-packages/tslearn/utils/utils.py:88: UserWarning: 2-Dimensional data passed. Assuming these are 200 1-dimensional timeseries\n",
      "  warnings.warn('2-Dimensional data passed. Assuming these are '\n",
      "/Users/swc/opt/anaconda3/envs/sax/lib/python3.10/site-packages/tslearn/utils/utils.py:88: UserWarning: 2-Dimensional data passed. Assuming these are 100 1-dimensional timeseries\n",
      "  warnings.warn('2-Dimensional data passed. Assuming these are '\n",
      "/Users/swc/opt/anaconda3/envs/sax/lib/python3.10/site-packages/tslearn/utils/utils.py:88: UserWarning: 2-Dimensional data passed. Assuming these are 200 1-dimensional timeseries\n",
      "  warnings.warn('2-Dimensional data passed. Assuming these are '\n"
     ]
    }
   ],
   "source": [
    "# vanilla SAX (tslearn)\n",
    "\n",
    "pipe_sax_tslearn_symb = make_pipeline(\n",
    "    MySAX(\n",
    "        n_segments=N_SEGMENTS,\n",
    "        alphabet_size_avg=N_SYMBOLS,\n",
    "        scale=True\n",
    "    ),\n",
    ")\n",
    "\n",
    "t_start = process_time()\n",
    "\n",
    "for i in range(n_iter):\n",
    "    _ = pipe_sax_tslearn_symb.fit(l_train).transform(l_train_test)\n",
    "\n",
    "t_stop = process_time()\n",
    "symb_time_sax_tslearn = (t_stop-t_start)/n_iter\n",
    "print(\"Elapsed time for vanilla SAX (tslearn) in seconds:\\n\\t\", round(symb_time_sax_tslearn, 2))"
   ]
  },
  {
   "cell_type": "code",
   "execution_count": 13,
   "id": "622ec79b-e0f2-4986-ae64-c848672f7242",
   "metadata": {},
   "outputs": [
    {
     "name": "stderr",
     "output_type": "stream",
     "text": [
      "/Users/swc/opt/anaconda3/envs/sax/lib/python3.10/site-packages/tslearn/utils/utils.py:88: UserWarning: 2-Dimensional data passed. Assuming these are 100 1-dimensional timeseries\n",
      "  warnings.warn('2-Dimensional data passed. Assuming these are '\n",
      "/Users/swc/opt/anaconda3/envs/sax/lib/python3.10/site-packages/tslearn/utils/utils.py:88: UserWarning: 2-Dimensional data passed. Assuming these are 200 1-dimensional timeseries\n",
      "  warnings.warn('2-Dimensional data passed. Assuming these are '\n",
      "/Users/swc/opt/anaconda3/envs/sax/lib/python3.10/site-packages/tslearn/utils/utils.py:88: UserWarning: 2-Dimensional data passed. Assuming these are 100 1-dimensional timeseries\n",
      "  warnings.warn('2-Dimensional data passed. Assuming these are '\n",
      "/Users/swc/opt/anaconda3/envs/sax/lib/python3.10/site-packages/tslearn/utils/utils.py:88: UserWarning: 2-Dimensional data passed. Assuming these are 200 1-dimensional timeseries\n",
      "  warnings.warn('2-Dimensional data passed. Assuming these are '\n",
      "/Users/swc/opt/anaconda3/envs/sax/lib/python3.10/site-packages/tslearn/utils/utils.py:88: UserWarning: 2-Dimensional data passed. Assuming these are 100 1-dimensional timeseries\n",
      "  warnings.warn('2-Dimensional data passed. Assuming these are '\n",
      "/Users/swc/opt/anaconda3/envs/sax/lib/python3.10/site-packages/tslearn/utils/utils.py:88: UserWarning: 2-Dimensional data passed. Assuming these are 200 1-dimensional timeseries\n",
      "  warnings.warn('2-Dimensional data passed. Assuming these are '\n",
      "/Users/swc/opt/anaconda3/envs/sax/lib/python3.10/site-packages/tslearn/utils/utils.py:88: UserWarning: 2-Dimensional data passed. Assuming these are 100 1-dimensional timeseries\n",
      "  warnings.warn('2-Dimensional data passed. Assuming these are '\n",
      "/Users/swc/opt/anaconda3/envs/sax/lib/python3.10/site-packages/tslearn/utils/utils.py:88: UserWarning: 2-Dimensional data passed. Assuming these are 200 1-dimensional timeseries\n",
      "  warnings.warn('2-Dimensional data passed. Assuming these are '\n",
      "/Users/swc/opt/anaconda3/envs/sax/lib/python3.10/site-packages/tslearn/utils/utils.py:88: UserWarning: 2-Dimensional data passed. Assuming these are 100 1-dimensional timeseries\n",
      "  warnings.warn('2-Dimensional data passed. Assuming these are '\n",
      "/Users/swc/opt/anaconda3/envs/sax/lib/python3.10/site-packages/tslearn/utils/utils.py:88: UserWarning: 2-Dimensional data passed. Assuming these are 200 1-dimensional timeseries\n",
      "  warnings.warn('2-Dimensional data passed. Assuming these are '\n",
      "/Users/swc/opt/anaconda3/envs/sax/lib/python3.10/site-packages/tslearn/utils/utils.py:88: UserWarning: 2-Dimensional data passed. Assuming these are 100 1-dimensional timeseries\n",
      "  warnings.warn('2-Dimensional data passed. Assuming these are '\n",
      "/Users/swc/opt/anaconda3/envs/sax/lib/python3.10/site-packages/tslearn/utils/utils.py:88: UserWarning: 2-Dimensional data passed. Assuming these are 200 1-dimensional timeseries\n",
      "  warnings.warn('2-Dimensional data passed. Assuming these are '\n",
      "/Users/swc/opt/anaconda3/envs/sax/lib/python3.10/site-packages/tslearn/utils/utils.py:88: UserWarning: 2-Dimensional data passed. Assuming these are 100 1-dimensional timeseries\n",
      "  warnings.warn('2-Dimensional data passed. Assuming these are '\n",
      "/Users/swc/opt/anaconda3/envs/sax/lib/python3.10/site-packages/tslearn/utils/utils.py:88: UserWarning: 2-Dimensional data passed. Assuming these are 200 1-dimensional timeseries\n",
      "  warnings.warn('2-Dimensional data passed. Assuming these are '\n",
      "/Users/swc/opt/anaconda3/envs/sax/lib/python3.10/site-packages/tslearn/utils/utils.py:88: UserWarning: 2-Dimensional data passed. Assuming these are 100 1-dimensional timeseries\n",
      "  warnings.warn('2-Dimensional data passed. Assuming these are '\n",
      "/Users/swc/opt/anaconda3/envs/sax/lib/python3.10/site-packages/tslearn/utils/utils.py:88: UserWarning: 2-Dimensional data passed. Assuming these are 200 1-dimensional timeseries\n",
      "  warnings.warn('2-Dimensional data passed. Assuming these are '\n",
      "/Users/swc/opt/anaconda3/envs/sax/lib/python3.10/site-packages/tslearn/utils/utils.py:88: UserWarning: 2-Dimensional data passed. Assuming these are 100 1-dimensional timeseries\n",
      "  warnings.warn('2-Dimensional data passed. Assuming these are '\n",
      "/Users/swc/opt/anaconda3/envs/sax/lib/python3.10/site-packages/tslearn/utils/utils.py:88: UserWarning: 2-Dimensional data passed. Assuming these are 200 1-dimensional timeseries\n",
      "  warnings.warn('2-Dimensional data passed. Assuming these are '\n",
      "/Users/swc/opt/anaconda3/envs/sax/lib/python3.10/site-packages/tslearn/utils/utils.py:88: UserWarning: 2-Dimensional data passed. Assuming these are 100 1-dimensional timeseries\n",
      "  warnings.warn('2-Dimensional data passed. Assuming these are '\n",
      "/Users/swc/opt/anaconda3/envs/sax/lib/python3.10/site-packages/tslearn/utils/utils.py:88: UserWarning: 2-Dimensional data passed. Assuming these are 200 1-dimensional timeseries\n",
      "  warnings.warn('2-Dimensional data passed. Assuming these are '\n"
     ]
    },
    {
     "name": "stdout",
     "output_type": "stream",
     "text": [
      "Elapsed time for 1d-SAX in seconds:\n",
      "\t 0.44\n"
     ]
    }
   ],
   "source": [
    "# 1d-SAX\n",
    "\n",
    "pipe_1dsax_symb = make_pipeline(\n",
    "    MyOneD(\n",
    "        n_segments=N_SEGMENTS,\n",
    "        alphabet_size_avg=N_SYMBOLS_MEAN,\n",
    "        alphabet_size_slope=N_SYMBOLS_SLOPE,\n",
    "        sigma_l=1.,\n",
    "        scale=True\n",
    "    ),\n",
    ")\n",
    "\n",
    "t_start = process_time()\n",
    "\n",
    "for i in range(n_iter):\n",
    "    _ = pipe_1dsax_symb.fit(l_train).transform(l_train_test)\n",
    "\n",
    "t_stop = process_time()\n",
    "symb_time_1dsax = (t_stop-t_start)/n_iter\n",
    "print(\"Elapsed time for 1d-SAX in seconds:\\n\\t\", round(symb_time_1dsax, 2))"
   ]
  },
  {
   "cell_type": "code",
   "execution_count": 14,
   "id": "525afbde-669a-486e-b2d1-b3f644c6bfce",
   "metadata": {},
   "outputs": [
    {
     "name": "stdout",
     "output_type": "stream",
     "text": [
      "Elapsed time for regular ASTRIDE in seconds:\n",
      "\t 0.31\n"
     ]
    }
   ],
   "source": [
    "# ASTRIDE\n",
    "\n",
    "pipe_astride_symb = (\n",
    "    make_pipeline(\n",
    "        TimeSeriesScalerMeanVariance(),\n",
    "        Segmentation(\n",
    "            univariate_or_multivariate=\"multivariate\",\n",
    "            uniform_or_adaptive=\"adaptive\",\n",
    "            mean_or_slope=\"mean\",\n",
    "            n_segments=N_SEGMENTS,\n",
    "            pen_factor=None\n",
    "        ),\n",
    "        SegmentFeature(\n",
    "            features_names=[\"mean\"]\n",
    "        ),\n",
    "        Symbolization(\n",
    "            n_symbols=N_SYMBOLS,\n",
    "            symb_method=\"quantif\",\n",
    "            symb_quantif_method=\"quantiles\",\n",
    "            symb_cluster_method=None,\n",
    "            features_scaling=None,\n",
    "            reconstruct_bool=True,\n",
    "            n_regime_lengths=\"divide_exact\",\n",
    "            seglen_bins_method=None,\n",
    "            lookup_table_type=\"mof\"\n",
    "        ),\n",
    "    )\n",
    ")\n",
    "\n",
    "t_start = process_time()\n",
    "\n",
    "for i in range(n_iter):\n",
    "    _ = pipe_astride_symb.fit(l_train).transform(l_train_test)\n",
    "\n",
    "t_stop = process_time()\n",
    "symb_time_astride = (t_stop-t_start)/n_iter\n",
    "print(\"Elapsed time for regular ASTRIDE in seconds:\\n\\t\", round(symb_time_astride, 2))"
   ]
  },
  {
   "cell_type": "code",
   "execution_count": 15,
   "id": "35a13332-c1ed-4e2e-837d-9bd04e29a72f",
   "metadata": {},
   "outputs": [
    {
     "name": "stdout",
     "output_type": "stream",
     "text": [
      "Elapsed time for fASTRIDE in seconds:\n",
      "\t 0.27\n"
     ]
    }
   ],
   "source": [
    "# FASTRIDE\n",
    "\n",
    "pipe_fastride_symb = (\n",
    "    make_pipeline(\n",
    "        TimeSeriesScalerMeanVariance(),\n",
    "        Segmentation(\n",
    "            univariate_or_multivariate=\"multivariate\",\n",
    "            uniform_or_adaptive=\"uniform\",\n",
    "            mean_or_slope=None,\n",
    "            n_segments=N_SEGMENTS,\n",
    "            pen_factor=None\n",
    "        ),\n",
    "        SegmentFeature(\n",
    "            features_names=[\"mean\"]\n",
    "        ),\n",
    "        Symbolization(\n",
    "            n_symbols=N_SYMBOLS,\n",
    "            symb_method=\"quantif\",\n",
    "            symb_quantif_method=\"quantiles\",\n",
    "            symb_cluster_method=None,\n",
    "            features_scaling=None,\n",
    "            reconstruct_bool=False,\n",
    "            n_regime_lengths=None,\n",
    "            seglen_bins_method=None,\n",
    "            lookup_table_type=\"mof\"\n",
    "        ),\n",
    "    )\n",
    ")\n",
    "\n",
    "\n",
    "cumul_time = 0\n",
    "for i in range(n_iter):\n",
    "    t_start = process_time()\n",
    "    _ = pipe_fastride_symb.fit(l_train).transform(l_train_test)\n",
    "    t_stop = process_time()\n",
    "    cumul_time += t_stop-t_start\n",
    "\n",
    "symb_time_fastride = cumul_time/n_iter\n",
    "print(\"Elapsed time for fASTRIDE in seconds:\\n\\t\", round(symb_time_fastride, 2))"
   ]
  },
  {
   "cell_type": "markdown",
   "id": "d066abd0-173c-4612-8141-5929aafb1817",
   "metadata": {},
   "source": [
    "# 1-NN classification processing time"
   ]
  },
  {
   "cell_type": "code",
   "execution_count": 16,
   "id": "071f2330-179a-4b8a-b77c-090b899353df",
   "metadata": {},
   "outputs": [],
   "source": [
    "n_iter = 10"
   ]
  },
  {
   "cell_type": "code",
   "execution_count": 17,
   "id": "da1c63d3-47b4-4260-9d2f-f75ff30f841c",
   "metadata": {},
   "outputs": [
    {
     "name": "stdout",
     "output_type": "stream",
     "text": [
      "Total number of symbols: 1000\n",
      "Elapsed time for Vanilla SAX in seconds:\n",
      "\t 0.08\n"
     ]
    }
   ],
   "source": [
    "# Vanilla SAX by default\n",
    "\n",
    "pipe_sax_clf = (\n",
    "    make_pipeline(\n",
    "        SymbolicSignalDistance(\n",
    "            distance=\"euclidean\",\n",
    "            n_samples=N_SAMPLES,\n",
    "            weighted_bool=True\n",
    "        ),\n",
    "        KNeighborsClassifier(\n",
    "            n_neighbors=1,\n",
    "            metric=\"precomputed\"\n",
    "        )\n",
    "    )\n",
    ")\n",
    "\n",
    "pipe_sax_symb.fit(l_train)\n",
    "bunch_train = pipe_sax_symb.transform(l_train)\n",
    "bunch_test = pipe_sax_symb.transform(l_test)\n",
    "print(\"Total number of symbols:\", np.sum([len(symb_sig) for symb_sig in bunch_test.list_of_symbolic_signals]))\n",
    "pipe_sax_clf.fit(bunch_train, y_train)\n",
    "\n",
    "cumul_time = 0\n",
    "for i in range(n_iter):\n",
    "    t_start = process_time()\n",
    "    _ = pipe_sax_clf.predict(bunch_test)\n",
    "    t_stop = process_time()\n",
    "    cumul_time += t_stop-t_start\n",
    "\n",
    "clf_time_sax = cumul_time/n_iter\n",
    "print(\"Elapsed time for Vanilla SAX in seconds:\\n\\t\", round(clf_time_sax, 2))"
   ]
  },
  {
   "cell_type": "code",
   "execution_count": 18,
   "id": "aa18b2ae-e3b4-4984-95b3-4a6519766219",
   "metadata": {},
   "outputs": [
    {
     "name": "stderr",
     "output_type": "stream",
     "text": [
      "/Users/swc/opt/anaconda3/envs/sax/lib/python3.10/site-packages/tslearn/utils/utils.py:88: UserWarning: 2-Dimensional data passed. Assuming these are 100 1-dimensional timeseries\n",
      "  warnings.warn('2-Dimensional data passed. Assuming these are '\n",
      "/Users/swc/opt/anaconda3/envs/sax/lib/python3.10/site-packages/tslearn/utils/utils.py:88: UserWarning: 2-Dimensional data passed. Assuming these are 100 1-dimensional timeseries\n",
      "  warnings.warn('2-Dimensional data passed. Assuming these are '\n",
      "/Users/swc/opt/anaconda3/envs/sax/lib/python3.10/site-packages/tslearn/utils/utils.py:88: UserWarning: 2-Dimensional data passed. Assuming these are 100 1-dimensional timeseries\n",
      "  warnings.warn('2-Dimensional data passed. Assuming these are '\n"
     ]
    },
    {
     "name": "stdout",
     "output_type": "stream",
     "text": [
      "Elapsed time for vanilla SAX (`tslearn`) in seconds:\n",
      "\t 0.11\n"
     ]
    }
   ],
   "source": [
    "# vanilla SAX (tslearn)\n",
    "\n",
    "pipe_sax_tslearn_clf = (\n",
    "    make_pipeline(\n",
    "        DistInterfaceSAX(),\n",
    "        KNeighborsClassifier(n_neighbors=1, metric=\"precomputed\"),\n",
    "    )\n",
    ")\n",
    "\n",
    "pipe_sax_tslearn_symb.fit(l_train)\n",
    "bunch_train = pipe_sax_tslearn_symb.transform(l_train)\n",
    "bunch_test = pipe_sax_tslearn_symb.transform(l_test)\n",
    "pipe_sax_tslearn_clf.fit(bunch_train, y_train)\n",
    "\n",
    "cumul_time = 0\n",
    "for i in range(n_iter):\n",
    "    t_start = process_time()\n",
    "    _ = pipe_sax_tslearn_clf.predict(bunch_test)\n",
    "    t_stop = process_time()\n",
    "    cumul_time += t_stop-t_start\n",
    "\n",
    "clf_time_sax_tslearn = cumul_time/n_iter\n",
    "print(\"Elapsed time for vanilla SAX (`tslearn`) in seconds:\\n\\t\", round(clf_time_sax_tslearn, 2))"
   ]
  },
  {
   "cell_type": "code",
   "execution_count": 19,
   "id": "a6ba095e-ff57-46d2-99b9-1c9f43e6f05e",
   "metadata": {},
   "outputs": [
    {
     "name": "stderr",
     "output_type": "stream",
     "text": [
      "/Users/swc/opt/anaconda3/envs/sax/lib/python3.10/site-packages/tslearn/utils/utils.py:88: UserWarning: 2-Dimensional data passed. Assuming these are 100 1-dimensional timeseries\n",
      "  warnings.warn('2-Dimensional data passed. Assuming these are '\n",
      "/Users/swc/opt/anaconda3/envs/sax/lib/python3.10/site-packages/tslearn/utils/utils.py:88: UserWarning: 2-Dimensional data passed. Assuming these are 100 1-dimensional timeseries\n",
      "  warnings.warn('2-Dimensional data passed. Assuming these are '\n",
      "/Users/swc/opt/anaconda3/envs/sax/lib/python3.10/site-packages/tslearn/utils/utils.py:88: UserWarning: 2-Dimensional data passed. Assuming these are 100 1-dimensional timeseries\n",
      "  warnings.warn('2-Dimensional data passed. Assuming these are '\n"
     ]
    },
    {
     "name": "stdout",
     "output_type": "stream",
     "text": [
      "Elapsed time for 1d-SAX in seconds:\n",
      "\t 0.22\n"
     ]
    }
   ],
   "source": [
    "# 1d-SAX\n",
    "\n",
    "pipe_1dsax_clf = (\n",
    "    make_pipeline(\n",
    "        DistInterfaceOneD(),\n",
    "        KNeighborsClassifier(n_neighbors=1, metric=\"precomputed\"),\n",
    "    )\n",
    ")\n",
    "\n",
    "pipe_1dsax_symb.fit(l_train)\n",
    "bunch_train = pipe_1dsax_symb.transform(l_train)\n",
    "bunch_test = pipe_1dsax_symb.transform(l_test)\n",
    "pipe_1dsax_clf.fit(bunch_train, y_train)\n",
    "\n",
    "cumul_time = 0\n",
    "for i in range(n_iter):\n",
    "    t_start = process_time()\n",
    "    _ = pipe_1dsax_clf.predict(bunch_test)\n",
    "    t_stop = process_time()\n",
    "    cumul_time += t_stop-t_start\n",
    "\n",
    "clf_time_1dsax = cumul_time/n_iter\n",
    "print(\"Elapsed time for 1d-SAX in seconds:\\n\\t\", round(clf_time_1dsax, 2))"
   ]
  },
  {
   "cell_type": "code",
   "execution_count": 20,
   "id": "18e4e4d6-ee42-4a30-87f7-c8d1ef61d94d",
   "metadata": {},
   "outputs": [
    {
     "name": "stdout",
     "output_type": "stream",
     "text": [
      "Total number of symbols: 4800\n",
      "Elapsed time for regular ASTRIDE in seconds:\n",
      "\t 0.17\n"
     ]
    }
   ],
   "source": [
    "# ASTRIDE\n",
    "\n",
    "pipe_astride_clf = (\n",
    "    make_pipeline(\n",
    "        SymbolicSignalDistance(\n",
    "            distance=\"lev\",\n",
    "            n_samples=None,\n",
    "            weighted_bool=True\n",
    "        ),\n",
    "        KNeighborsClassifier(\n",
    "            n_neighbors=1,\n",
    "            metric=\"precomputed\"\n",
    "        )\n",
    "    )\n",
    ")\n",
    "\n",
    "pipe_astride_symb.fit(l_train)\n",
    "bunch_train = pipe_astride_symb.transform(l_train)\n",
    "bunch_test = pipe_astride_symb.transform(l_test)\n",
    "print(\"Total number of symbols:\", np.sum([len(symb_sig) for symb_sig in bunch_test.list_of_symbolic_signals]))\n",
    "pipe_astride_clf.fit(bunch_train, y_train)\n",
    "\n",
    "cumul_time = 0\n",
    "for i in range(n_iter):\n",
    "    t_start = process_time()\n",
    "    _ = pipe_astride_clf.predict(bunch_test)\n",
    "    t_stop = process_time()\n",
    "    cumul_time += t_stop-t_start\n",
    "clf_time_astride = cumul_time/n_iter\n",
    "print(\"Elapsed time for regular ASTRIDE in seconds:\\n\\t\", round(clf_time_astride, 2))"
   ]
  },
  {
   "cell_type": "code",
   "execution_count": 21,
   "id": "061f7d2f-e48e-46aa-8b1a-87c7889d4a8e",
   "metadata": {},
   "outputs": [
    {
     "name": "stdout",
     "output_type": "stream",
     "text": [
      "Total number of symbols: 1000\n",
      "Elapsed time for FASTRIDE in seconds:\n",
      "\t 0.07\n"
     ]
    }
   ],
   "source": [
    "# FASTRIDE\n",
    "\n",
    "pipe_fastride_clf = (\n",
    "    make_pipeline(\n",
    "        SymbolicSignalDistance(\n",
    "            distance=\"lev\",\n",
    "            n_samples=None,\n",
    "            weighted_bool=True\n",
    "        ),\n",
    "        KNeighborsClassifier(\n",
    "            n_neighbors=1,\n",
    "            metric=\"precomputed\"\n",
    "        )\n",
    "    )\n",
    ")\n",
    "\n",
    "pipe_fastride_symb.fit(l_train)\n",
    "bunch_train = pipe_fastride_symb.transform(l_train)\n",
    "bunch_test = pipe_fastride_symb.transform(l_test)\n",
    "print(\"Total number of symbols:\", np.sum([len(symb_sig) for symb_sig in bunch_test.list_of_symbolic_signals]))\n",
    "pipe_fastride_clf.fit(bunch_train, y_train)\n",
    "\n",
    "cumul_time = 0\n",
    "for i in range(n_iter):\n",
    "    t_start = process_time()\n",
    "    _ = pipe_fastride_clf.predict(bunch_test)\n",
    "    t_stop = process_time()\n",
    "    cumul_time += t_stop-t_start\n",
    "clf_time_fastride = cumul_time/n_iter\n",
    "print(\"Elapsed time for FASTRIDE in seconds:\\n\\t\", round(clf_time_fastride, 2))"
   ]
  },
  {
   "cell_type": "markdown",
   "id": "79c45522-88d5-4045-9152-a6d9e79f149c",
   "metadata": {},
   "source": [
    "# Assembling everything"
   ]
  },
  {
   "cell_type": "code",
   "execution_count": 22,
   "id": "22f0af3e-8137-43f7-a545-f61304dd112c",
   "metadata": {},
   "outputs": [
    {
     "name": "stdout",
     "output_type": "stream",
     "text": [
      "DATASET_NAME_UCR = 'ECG200'\n",
      "N_SEGMENTS = 10\n",
      "N_SYMBOLS = 9\n",
      "N_SAMPLES = 96\n",
      "len(X_train) = 100\n",
      "len(X_test) = 100\n"
     ]
    },
    {
     "data": {
      "text/html": [
       "<div>\n",
       "<style scoped>\n",
       "    .dataframe tbody tr th:only-of-type {\n",
       "        vertical-align: middle;\n",
       "    }\n",
       "\n",
       "    .dataframe tbody tr th {\n",
       "        vertical-align: top;\n",
       "    }\n",
       "\n",
       "    .dataframe thead th {\n",
       "        text-align: right;\n",
       "    }\n",
       "</style>\n",
       "<table border=\"1\" class=\"dataframe\">\n",
       "  <thead>\n",
       "    <tr style=\"text-align: right;\">\n",
       "      <th></th>\n",
       "      <th>symb</th>\n",
       "      <th>clf</th>\n",
       "    </tr>\n",
       "  </thead>\n",
       "  <tbody>\n",
       "    <tr>\n",
       "      <th>SAX</th>\n",
       "      <td>0.27</td>\n",
       "      <td>0.08</td>\n",
       "    </tr>\n",
       "    <tr>\n",
       "      <th>SAX (tslearn)</th>\n",
       "      <td>0.02</td>\n",
       "      <td>0.11</td>\n",
       "    </tr>\n",
       "    <tr>\n",
       "      <th>1d-SAX (tslearn)</th>\n",
       "      <td>0.44</td>\n",
       "      <td>0.22</td>\n",
       "    </tr>\n",
       "    <tr>\n",
       "      <th>ASTRIDE</th>\n",
       "      <td>0.31</td>\n",
       "      <td>0.17</td>\n",
       "    </tr>\n",
       "    <tr>\n",
       "      <th>FASTRIDE</th>\n",
       "      <td>0.27</td>\n",
       "      <td>0.07</td>\n",
       "    </tr>\n",
       "  </tbody>\n",
       "</table>\n",
       "</div>"
      ],
      "text/plain": [
       "                  symb   clf\n",
       "SAX               0.27  0.08\n",
       "SAX (tslearn)     0.02  0.11\n",
       "1d-SAX (tslearn)  0.44  0.22\n",
       "ASTRIDE           0.31  0.17\n",
       "FASTRIDE          0.27  0.07"
      ]
     },
     "metadata": {},
     "output_type": "display_data"
    }
   ],
   "source": [
    "print(f\"{DATASET_NAME_UCR = }\")\n",
    "print(f\"{N_SEGMENTS = }\")\n",
    "print(f\"{N_SYMBOLS = }\")\n",
    "print(f\"{N_SAMPLES = }\")\n",
    "print(f\"{len(X_train) = }\")\n",
    "print(f\"{len(X_test) = }\")\n",
    "\n",
    "d = dict()\n",
    "d[\"symb\"] = [symb_time_sax, symb_time_sax_tslearn, symb_time_1dsax, symb_time_astride, symb_time_fastride]\n",
    "d[\"clf\"] = [clf_time_sax, clf_time_sax_tslearn, clf_time_1dsax, clf_time_astride, clf_time_fastride]\n",
    "df = pd.DataFrame(d)\n",
    "df.index = [\"SAX\", \"SAX (tslearn)\", \"1d-SAX (tslearn)\", \"ASTRIDE\", \"FASTRIDE\"]\n",
    "display(df.round(2))"
   ]
  },
  {
   "cell_type": "markdown",
   "id": "e9fdbfd0-be64-4057-a4f7-034be11c9660",
   "metadata": {},
   "source": [
    "*Note*: It correponds to Table 6 of the paper."
   ]
  },
  {
   "cell_type": "code",
   "execution_count": null,
   "id": "b14827f7-d815-42c7-bbea-478d2b6a2126",
   "metadata": {},
   "outputs": [],
   "source": []
  }
 ],
 "metadata": {
  "kernelspec": {
   "display_name": "Python 3 (ipykernel)",
   "language": "python",
   "name": "python3"
  },
  "language_info": {
   "codemirror_mode": {
    "name": "ipython",
    "version": 3
   },
   "file_extension": ".py",
   "mimetype": "text/x-python",
   "name": "python",
   "nbconvert_exporter": "python",
   "pygments_lexer": "ipython3",
   "version": "3.10.6"
  },
  "toc-autonumbering": true
 },
 "nbformat": 4,
 "nbformat_minor": 5
}
